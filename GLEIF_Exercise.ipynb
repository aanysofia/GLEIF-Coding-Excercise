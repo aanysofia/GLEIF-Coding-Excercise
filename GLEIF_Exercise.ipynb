{
 "cells": [
  {
   "cell_type": "code",
   "execution_count": 2,
   "metadata": {},
   "outputs": [],
   "source": [
    "import pandas as pd\n",
    "import numpy as np"
   ]
  },
  {
   "cell_type": "code",
   "execution_count": 4,
   "metadata": {},
   "outputs": [],
   "source": [
    "import dask.dataframe as dd\n",
    "df = dd.read_csv('data/gleif1.csv', dtype=str)"
   ]
  },
  {
   "cell_type": "code",
   "execution_count": 6,
   "metadata": {},
   "outputs": [
    {
     "data": {
      "text/html": [
       "<div>\n",
       "<style scoped>\n",
       "    .dataframe tbody tr th:only-of-type {\n",
       "        vertical-align: middle;\n",
       "    }\n",
       "\n",
       "    .dataframe tbody tr th {\n",
       "        vertical-align: top;\n",
       "    }\n",
       "\n",
       "    .dataframe thead th {\n",
       "        text-align: right;\n",
       "    }\n",
       "</style>\n",
       "<table border=\"1\" class=\"dataframe\">\n",
       "  <thead>\n",
       "    <tr style=\"text-align: right;\">\n",
       "      <th></th>\n",
       "      <th>LEI</th>\n",
       "      <th>Entity.LegalName</th>\n",
       "      <th>Entity.LegalName.xmllang</th>\n",
       "      <th>Entity.OtherEntityNames.OtherEntityName.1</th>\n",
       "      <th>Entity.OtherEntityNames.OtherEntityName.1.xmllang</th>\n",
       "      <th>Entity.OtherEntityNames.OtherEntityName.1.type</th>\n",
       "      <th>Entity.OtherEntityNames.OtherEntityName.2</th>\n",
       "      <th>Entity.OtherEntityNames.OtherEntityName.2.xmllang</th>\n",
       "      <th>Entity.OtherEntityNames.OtherEntityName.2.type</th>\n",
       "      <th>Entity.OtherEntityNames.OtherEntityName.3</th>\n",
       "      <th>...</th>\n",
       "      <th>Registration.OtherValidationAuthorities.OtherValidationAuthority.2.ValidationAuthorityEntityID</th>\n",
       "      <th>Registration.OtherValidationAuthorities.OtherValidationAuthority.3.ValidationAuthorityID</th>\n",
       "      <th>Registration.OtherValidationAuthorities.OtherValidationAuthority.3.OtherValidationAuthorityID</th>\n",
       "      <th>Registration.OtherValidationAuthorities.OtherValidationAuthority.3.ValidationAuthorityEntityID</th>\n",
       "      <th>Registration.OtherValidationAuthorities.OtherValidationAuthority.4.ValidationAuthorityID</th>\n",
       "      <th>Registration.OtherValidationAuthorities.OtherValidationAuthority.4.OtherValidationAuthorityID</th>\n",
       "      <th>Registration.OtherValidationAuthorities.OtherValidationAuthority.4.ValidationAuthorityEntityID</th>\n",
       "      <th>Registration.OtherValidationAuthorities.OtherValidationAuthority.5.ValidationAuthorityID</th>\n",
       "      <th>Registration.OtherValidationAuthorities.OtherValidationAuthority.5.OtherValidationAuthorityID</th>\n",
       "      <th>Registration.OtherValidationAuthorities.OtherValidationAuthority.5.ValidationAuthorityEntityID</th>\n",
       "    </tr>\n",
       "  </thead>\n",
       "  <tbody>\n",
       "    <tr>\n",
       "      <th>0</th>\n",
       "      <td>001GPB6A9XPE8XJICC14</td>\n",
       "      <td>FIDELITY ADVISOR SERIES I - Fidelity Advisor L...</td>\n",
       "      <td>en</td>\n",
       "      <td>NaN</td>\n",
       "      <td>NaN</td>\n",
       "      <td>NaN</td>\n",
       "      <td>NaN</td>\n",
       "      <td>NaN</td>\n",
       "      <td>NaN</td>\n",
       "      <td>NaN</td>\n",
       "      <td>...</td>\n",
       "      <td>NaN</td>\n",
       "      <td>NaN</td>\n",
       "      <td>NaN</td>\n",
       "      <td>NaN</td>\n",
       "      <td>NaN</td>\n",
       "      <td>NaN</td>\n",
       "      <td>NaN</td>\n",
       "      <td>NaN</td>\n",
       "      <td>NaN</td>\n",
       "      <td>NaN</td>\n",
       "    </tr>\n",
       "    <tr>\n",
       "      <th>1</th>\n",
       "      <td>004L5FPTUREIWK9T2N63</td>\n",
       "      <td>Hutchin Hill Capital, LP</td>\n",
       "      <td>en</td>\n",
       "      <td>NaN</td>\n",
       "      <td>NaN</td>\n",
       "      <td>NaN</td>\n",
       "      <td>NaN</td>\n",
       "      <td>NaN</td>\n",
       "      <td>NaN</td>\n",
       "      <td>NaN</td>\n",
       "      <td>...</td>\n",
       "      <td>NaN</td>\n",
       "      <td>NaN</td>\n",
       "      <td>NaN</td>\n",
       "      <td>NaN</td>\n",
       "      <td>NaN</td>\n",
       "      <td>NaN</td>\n",
       "      <td>NaN</td>\n",
       "      <td>NaN</td>\n",
       "      <td>NaN</td>\n",
       "      <td>NaN</td>\n",
       "    </tr>\n",
       "  </tbody>\n",
       "</table>\n",
       "<p>2 rows × 337 columns</p>\n",
       "</div>"
      ],
      "text/plain": [
       "                    LEI                                   Entity.LegalName  \\\n",
       "0  001GPB6A9XPE8XJICC14  FIDELITY ADVISOR SERIES I - Fidelity Advisor L...   \n",
       "1  004L5FPTUREIWK9T2N63                           Hutchin Hill Capital, LP   \n",
       "\n",
       "  Entity.LegalName.xmllang Entity.OtherEntityNames.OtherEntityName.1  \\\n",
       "0                       en                                       NaN   \n",
       "1                       en                                       NaN   \n",
       "\n",
       "  Entity.OtherEntityNames.OtherEntityName.1.xmllang  \\\n",
       "0                                               NaN   \n",
       "1                                               NaN   \n",
       "\n",
       "  Entity.OtherEntityNames.OtherEntityName.1.type  \\\n",
       "0                                            NaN   \n",
       "1                                            NaN   \n",
       "\n",
       "  Entity.OtherEntityNames.OtherEntityName.2  \\\n",
       "0                                       NaN   \n",
       "1                                       NaN   \n",
       "\n",
       "  Entity.OtherEntityNames.OtherEntityName.2.xmllang  \\\n",
       "0                                               NaN   \n",
       "1                                               NaN   \n",
       "\n",
       "  Entity.OtherEntityNames.OtherEntityName.2.type  \\\n",
       "0                                            NaN   \n",
       "1                                            NaN   \n",
       "\n",
       "  Entity.OtherEntityNames.OtherEntityName.3  ...  \\\n",
       "0                                       NaN  ...   \n",
       "1                                       NaN  ...   \n",
       "\n",
       "  Registration.OtherValidationAuthorities.OtherValidationAuthority.2.ValidationAuthorityEntityID  \\\n",
       "0                                                NaN                                               \n",
       "1                                                NaN                                               \n",
       "\n",
       "  Registration.OtherValidationAuthorities.OtherValidationAuthority.3.ValidationAuthorityID  \\\n",
       "0                                                NaN                                         \n",
       "1                                                NaN                                         \n",
       "\n",
       "  Registration.OtherValidationAuthorities.OtherValidationAuthority.3.OtherValidationAuthorityID  \\\n",
       "0                                                NaN                                              \n",
       "1                                                NaN                                              \n",
       "\n",
       "  Registration.OtherValidationAuthorities.OtherValidationAuthority.3.ValidationAuthorityEntityID  \\\n",
       "0                                                NaN                                               \n",
       "1                                                NaN                                               \n",
       "\n",
       "  Registration.OtherValidationAuthorities.OtherValidationAuthority.4.ValidationAuthorityID  \\\n",
       "0                                                NaN                                         \n",
       "1                                                NaN                                         \n",
       "\n",
       "  Registration.OtherValidationAuthorities.OtherValidationAuthority.4.OtherValidationAuthorityID  \\\n",
       "0                                                NaN                                              \n",
       "1                                                NaN                                              \n",
       "\n",
       "  Registration.OtherValidationAuthorities.OtherValidationAuthority.4.ValidationAuthorityEntityID  \\\n",
       "0                                                NaN                                               \n",
       "1                                                NaN                                               \n",
       "\n",
       "  Registration.OtherValidationAuthorities.OtherValidationAuthority.5.ValidationAuthorityID  \\\n",
       "0                                                NaN                                         \n",
       "1                                                NaN                                         \n",
       "\n",
       "  Registration.OtherValidationAuthorities.OtherValidationAuthority.5.OtherValidationAuthorityID  \\\n",
       "0                                                NaN                                              \n",
       "1                                                NaN                                              \n",
       "\n",
       "  Registration.OtherValidationAuthorities.OtherValidationAuthority.5.ValidationAuthorityEntityID  \n",
       "0                                                NaN                                              \n",
       "1                                                NaN                                              \n",
       "\n",
       "[2 rows x 337 columns]"
      ]
     },
     "execution_count": 6,
     "metadata": {},
     "output_type": "execute_result"
    }
   ],
   "source": [
    "df.head(2)"
   ]
  },
  {
   "cell_type": "code",
   "execution_count": 7,
   "metadata": {},
   "outputs": [
    {
     "data": {
      "text/plain": [
       "Index(['LEI', 'Entity.LegalName', 'Entity.LegalName.xmllang',\n",
       "       'Entity.OtherEntityNames.OtherEntityName.1',\n",
       "       'Entity.OtherEntityNames.OtherEntityName.1.xmllang',\n",
       "       'Entity.OtherEntityNames.OtherEntityName.1.type',\n",
       "       'Entity.OtherEntityNames.OtherEntityName.2',\n",
       "       'Entity.OtherEntityNames.OtherEntityName.2.xmllang',\n",
       "       'Entity.OtherEntityNames.OtherEntityName.2.type',\n",
       "       'Entity.OtherEntityNames.OtherEntityName.3',\n",
       "       ...\n",
       "       'Registration.OtherValidationAuthorities.OtherValidationAuthority.2.ValidationAuthorityEntityID',\n",
       "       'Registration.OtherValidationAuthorities.OtherValidationAuthority.3.ValidationAuthorityID',\n",
       "       'Registration.OtherValidationAuthorities.OtherValidationAuthority.3.OtherValidationAuthorityID',\n",
       "       'Registration.OtherValidationAuthorities.OtherValidationAuthority.3.ValidationAuthorityEntityID',\n",
       "       'Registration.OtherValidationAuthorities.OtherValidationAuthority.4.ValidationAuthorityID',\n",
       "       'Registration.OtherValidationAuthorities.OtherValidationAuthority.4.OtherValidationAuthorityID',\n",
       "       'Registration.OtherValidationAuthorities.OtherValidationAuthority.4.ValidationAuthorityEntityID',\n",
       "       'Registration.OtherValidationAuthorities.OtherValidationAuthority.5.ValidationAuthorityID',\n",
       "       'Registration.OtherValidationAuthorities.OtherValidationAuthority.5.OtherValidationAuthorityID',\n",
       "       'Registration.OtherValidationAuthorities.OtherValidationAuthority.5.ValidationAuthorityEntityID'],\n",
       "      dtype='object', length=337)"
      ]
     },
     "execution_count": 7,
     "metadata": {},
     "output_type": "execute_result"
    }
   ],
   "source": [
    "df.columns"
   ]
  },
  {
   "cell_type": "code",
   "execution_count": 9,
   "metadata": {},
   "outputs": [
    {
     "data": {
      "text/plain": [
       "(Delayed('int-56030414-2b80-473f-8412-d6975703c110'), 337)"
      ]
     },
     "execution_count": 9,
     "metadata": {},
     "output_type": "execute_result"
    }
   ],
   "source": [
    "df.shape"
   ]
  },
  {
   "cell_type": "code",
   "execution_count": null,
   "metadata": {},
   "outputs": [],
   "source": [
    "LEI\n",
    "Entity.LegalName\n",
    "Entity.LegalJurisdiction\n",
    "Entity.LegalForm.EntityLegalFormCode\n",
    "Entity.EntityStatus\n",
    "Entity.RegistrationAuthority.RegistrationAuthorityEntityID\n",
    "Entity.EntityCategory\n",
    "Registration.RegistrationStatus\n",
    "Registration.LastUpdateDate"
   ]
  },
  {
   "cell_type": "code",
   "execution_count": 11,
   "metadata": {},
   "outputs": [],
   "source": [
    "df2 = df[[\"LEI\", \"Entity.LegalName\", \"Entity.LegalJurisdiction\",\"Entity.LegalForm.EntityLegalFormCode\", \"Entity.EntityStatus\", \"Entity.RegistrationAuthority.RegistrationAuthorityEntityID\",\n",
    " \"Entity.EntityCategory\", \"Registration.RegistrationStatus\", \"Registration.LastUpdateDate\"]]"
   ]
  },
  {
   "cell_type": "code",
   "execution_count": 12,
   "metadata": {},
   "outputs": [
    {
     "data": {
      "text/html": [
       "<div>\n",
       "<style scoped>\n",
       "    .dataframe tbody tr th:only-of-type {\n",
       "        vertical-align: middle;\n",
       "    }\n",
       "\n",
       "    .dataframe tbody tr th {\n",
       "        vertical-align: top;\n",
       "    }\n",
       "\n",
       "    .dataframe thead th {\n",
       "        text-align: right;\n",
       "    }\n",
       "</style>\n",
       "<table border=\"1\" class=\"dataframe\">\n",
       "  <thead>\n",
       "    <tr style=\"text-align: right;\">\n",
       "      <th></th>\n",
       "      <th>LEI</th>\n",
       "      <th>Entity.LegalName</th>\n",
       "      <th>Entity.LegalJurisdiction</th>\n",
       "      <th>Entity.LegalForm.EntityLegalFormCode</th>\n",
       "      <th>Entity.EntityStatus</th>\n",
       "      <th>Entity.RegistrationAuthority.RegistrationAuthorityEntityID</th>\n",
       "      <th>Entity.EntityCategory</th>\n",
       "      <th>Registration.RegistrationStatus</th>\n",
       "      <th>Registration.LastUpdateDate</th>\n",
       "    </tr>\n",
       "  </thead>\n",
       "  <tbody>\n",
       "    <tr>\n",
       "      <th>0</th>\n",
       "      <td>001GPB6A9XPE8XJICC14</td>\n",
       "      <td>FIDELITY ADVISOR SERIES I - Fidelity Advisor L...</td>\n",
       "      <td>US-MA</td>\n",
       "      <td>8888</td>\n",
       "      <td>ACTIVE</td>\n",
       "      <td>S000005113</td>\n",
       "      <td>FUND</td>\n",
       "      <td>ISSUED</td>\n",
       "      <td>2022-05-20T09:35:00.000Z</td>\n",
       "    </tr>\n",
       "    <tr>\n",
       "      <th>1</th>\n",
       "      <td>004L5FPTUREIWK9T2N63</td>\n",
       "      <td>Hutchin Hill Capital, LP</td>\n",
       "      <td>US-DE</td>\n",
       "      <td>T91T</td>\n",
       "      <td>ACTIVE</td>\n",
       "      <td>4386463</td>\n",
       "      <td>GENERAL</td>\n",
       "      <td>LAPSED</td>\n",
       "      <td>2020-07-17T12:40:00.000Z</td>\n",
       "    </tr>\n",
       "  </tbody>\n",
       "</table>\n",
       "</div>"
      ],
      "text/plain": [
       "                    LEI                                   Entity.LegalName  \\\n",
       "0  001GPB6A9XPE8XJICC14  FIDELITY ADVISOR SERIES I - Fidelity Advisor L...   \n",
       "1  004L5FPTUREIWK9T2N63                           Hutchin Hill Capital, LP   \n",
       "\n",
       "  Entity.LegalJurisdiction Entity.LegalForm.EntityLegalFormCode  \\\n",
       "0                    US-MA                                 8888   \n",
       "1                    US-DE                                 T91T   \n",
       "\n",
       "  Entity.EntityStatus  \\\n",
       "0              ACTIVE   \n",
       "1              ACTIVE   \n",
       "\n",
       "  Entity.RegistrationAuthority.RegistrationAuthorityEntityID  \\\n",
       "0                                         S000005113           \n",
       "1                                            4386463           \n",
       "\n",
       "  Entity.EntityCategory Registration.RegistrationStatus  \\\n",
       "0                  FUND                          ISSUED   \n",
       "1               GENERAL                          LAPSED   \n",
       "\n",
       "  Registration.LastUpdateDate  \n",
       "0    2022-05-20T09:35:00.000Z  \n",
       "1    2020-07-17T12:40:00.000Z  "
      ]
     },
     "execution_count": 12,
     "metadata": {},
     "output_type": "execute_result"
    }
   ],
   "source": [
    "df2.head(2)"
   ]
  },
  {
   "cell_type": "code",
   "execution_count": 13,
   "metadata": {},
   "outputs": [
    {
     "data": {
      "text/plain": [
       "Index(['LEI', 'Entity.LegalName', 'Entity.LegalJurisdiction',\n",
       "       'Entity.LegalForm.EntityLegalFormCode', 'Entity.EntityStatus',\n",
       "       'Entity.RegistrationAuthority.RegistrationAuthorityEntityID',\n",
       "       'Entity.EntityCategory', 'Registration.RegistrationStatus',\n",
       "       'Registration.LastUpdateDate'],\n",
       "      dtype='object')"
      ]
     },
     "execution_count": 13,
     "metadata": {},
     "output_type": "execute_result"
    }
   ],
   "source": [
    "df2.columns"
   ]
  },
  {
   "cell_type": "markdown",
   "metadata": {},
   "source": [
    "## Exercise 1: Find all Public Limited Companies (PLCs) in Great Britain"
   ]
  },
  {
   "cell_type": "markdown",
   "metadata": {},
   "source": [
    "In the LEI data you can identify the legal form of an entity using the field\n",
    "‘Entity.LegalForm.EntityLegalFormCode’. Public Limited Companies in Great Britain are assigned\n",
    "EntityLegalFormCode ‘B6ES’. Please identifiy all Public Limitied Companies (PLCs) in Great Britain."
   ]
  },
  {
   "cell_type": "code",
   "execution_count": 14,
   "metadata": {},
   "outputs": [],
   "source": [
    "df3 = df2.loc[df2[\"Entity.LegalForm.EntityLegalFormCode\"]== \"B6ES\"]"
   ]
  },
  {
   "cell_type": "code",
   "execution_count": 15,
   "metadata": {},
   "outputs": [
    {
     "data": {
      "text/html": [
       "<div>\n",
       "<style scoped>\n",
       "    .dataframe tbody tr th:only-of-type {\n",
       "        vertical-align: middle;\n",
       "    }\n",
       "\n",
       "    .dataframe tbody tr th {\n",
       "        vertical-align: top;\n",
       "    }\n",
       "\n",
       "    .dataframe thead th {\n",
       "        text-align: right;\n",
       "    }\n",
       "</style>\n",
       "<table border=\"1\" class=\"dataframe\">\n",
       "  <thead>\n",
       "    <tr style=\"text-align: right;\">\n",
       "      <th></th>\n",
       "      <th>LEI</th>\n",
       "      <th>Entity.LegalName</th>\n",
       "      <th>Entity.LegalJurisdiction</th>\n",
       "      <th>Entity.LegalForm.EntityLegalFormCode</th>\n",
       "      <th>Entity.EntityStatus</th>\n",
       "      <th>Entity.RegistrationAuthority.RegistrationAuthorityEntityID</th>\n",
       "      <th>Entity.EntityCategory</th>\n",
       "      <th>Registration.RegistrationStatus</th>\n",
       "      <th>Registration.LastUpdateDate</th>\n",
       "    </tr>\n",
       "  </thead>\n",
       "  <tbody>\n",
       "    <tr>\n",
       "      <th>3740</th>\n",
       "      <td>0TMBS544NMO7GLCE7H90</td>\n",
       "      <td>ABRDN PLC</td>\n",
       "      <td>GB</td>\n",
       "      <td>B6ES</td>\n",
       "      <td>ACTIVE</td>\n",
       "      <td>SC286832</td>\n",
       "      <td>GENERAL</td>\n",
       "      <td>ISSUED</td>\n",
       "      <td>2022-03-28T14:21:02.157Z</td>\n",
       "    </tr>\n",
       "    <tr>\n",
       "      <th>4389</th>\n",
       "      <td>2138001123F8QFPOZ919</td>\n",
       "      <td>TANGENT COMMUNICATIONS PLC</td>\n",
       "      <td>GB</td>\n",
       "      <td>B6ES</td>\n",
       "      <td>ACTIVE</td>\n",
       "      <td>03967805</td>\n",
       "      <td>GENERAL</td>\n",
       "      <td>LAPSED</td>\n",
       "      <td>2019-01-15T13:19:01.703Z</td>\n",
       "    </tr>\n",
       "    <tr>\n",
       "      <th>4429</th>\n",
       "      <td>21380011BEY3JSQ3AU68</td>\n",
       "      <td>PARSLEY BOX GROUP PLC</td>\n",
       "      <td>GB</td>\n",
       "      <td>B6ES</td>\n",
       "      <td>ACTIVE</td>\n",
       "      <td>SC685656</td>\n",
       "      <td>GENERAL</td>\n",
       "      <td>ISSUED</td>\n",
       "      <td>2022-03-22T04:13:11.243Z</td>\n",
       "    </tr>\n",
       "    <tr>\n",
       "      <th>4441</th>\n",
       "      <td>21380011EU95E93AQN91</td>\n",
       "      <td>SULNOX GROUP PLC</td>\n",
       "      <td>GB</td>\n",
       "      <td>B6ES</td>\n",
       "      <td>ACTIVE</td>\n",
       "      <td>08449586</td>\n",
       "      <td>GENERAL</td>\n",
       "      <td>ISSUED</td>\n",
       "      <td>2022-03-22T04:13:43.710Z</td>\n",
       "    </tr>\n",
       "    <tr>\n",
       "      <th>4468</th>\n",
       "      <td>21380011L2Y2O7QAFQ89</td>\n",
       "      <td>NORTHERN &amp; SHELL PLC</td>\n",
       "      <td>GB</td>\n",
       "      <td>B6ES</td>\n",
       "      <td>ACTIVE</td>\n",
       "      <td>04086466</td>\n",
       "      <td>GENERAL</td>\n",
       "      <td>ISSUED</td>\n",
       "      <td>2022-04-25T08:03:08.680Z</td>\n",
       "    </tr>\n",
       "  </tbody>\n",
       "</table>\n",
       "</div>"
      ],
      "text/plain": [
       "                       LEI            Entity.LegalName  \\\n",
       "3740  0TMBS544NMO7GLCE7H90                   ABRDN PLC   \n",
       "4389  2138001123F8QFPOZ919  TANGENT COMMUNICATIONS PLC   \n",
       "4429  21380011BEY3JSQ3AU68       PARSLEY BOX GROUP PLC   \n",
       "4441  21380011EU95E93AQN91            SULNOX GROUP PLC   \n",
       "4468  21380011L2Y2O7QAFQ89        NORTHERN & SHELL PLC   \n",
       "\n",
       "     Entity.LegalJurisdiction Entity.LegalForm.EntityLegalFormCode  \\\n",
       "3740                       GB                                 B6ES   \n",
       "4389                       GB                                 B6ES   \n",
       "4429                       GB                                 B6ES   \n",
       "4441                       GB                                 B6ES   \n",
       "4468                       GB                                 B6ES   \n",
       "\n",
       "     Entity.EntityStatus  \\\n",
       "3740              ACTIVE   \n",
       "4389              ACTIVE   \n",
       "4429              ACTIVE   \n",
       "4441              ACTIVE   \n",
       "4468              ACTIVE   \n",
       "\n",
       "     Entity.RegistrationAuthority.RegistrationAuthorityEntityID  \\\n",
       "3740                                           SC286832           \n",
       "4389                                           03967805           \n",
       "4429                                           SC685656           \n",
       "4441                                           08449586           \n",
       "4468                                           04086466           \n",
       "\n",
       "     Entity.EntityCategory Registration.RegistrationStatus  \\\n",
       "3740               GENERAL                          ISSUED   \n",
       "4389               GENERAL                          LAPSED   \n",
       "4429               GENERAL                          ISSUED   \n",
       "4441               GENERAL                          ISSUED   \n",
       "4468               GENERAL                          ISSUED   \n",
       "\n",
       "     Registration.LastUpdateDate  \n",
       "3740    2022-03-28T14:21:02.157Z  \n",
       "4389    2019-01-15T13:19:01.703Z  \n",
       "4429    2022-03-22T04:13:11.243Z  \n",
       "4441    2022-03-22T04:13:43.710Z  \n",
       "4468    2022-04-25T08:03:08.680Z  "
      ]
     },
     "execution_count": 15,
     "metadata": {},
     "output_type": "execute_result"
    }
   ],
   "source": [
    "df3.head()"
   ]
  },
  {
   "cell_type": "code",
   "execution_count": 34,
   "metadata": {},
   "outputs": [
    {
     "data": {
      "text/plain": [
       "Dask Series Structure:\n",
       "npartitions=1\n",
       "    int64\n",
       "      ...\n",
       "Name: Registration.RegistrationStatus, dtype: int64\n",
       "Dask Name: value-counts-agg, 165 tasks"
      ]
     },
     "execution_count": 34,
     "metadata": {},
     "output_type": "execute_result"
    }
   ],
   "source": [
    "df3[\"Registration.RegistrationStatus\"].value_counts()"
   ]
  },
  {
   "cell_type": "code",
   "execution_count": 57,
   "metadata": {},
   "outputs": [
    {
     "data": {
      "text/plain": [
       "Dask Series Structure:\n",
       "npartitions=1\n",
       "    int64\n",
       "      ...\n",
       "Name: Entity.EntityStatus, dtype: int64\n",
       "Dask Name: value-counts-agg, 165 tasks"
      ]
     },
     "execution_count": 57,
     "metadata": {},
     "output_type": "execute_result"
    }
   ],
   "source": [
    "df3[\"Entity.EntityStatus\"].value_counts()"
   ]
  },
  {
   "cell_type": "markdown",
   "metadata": {},
   "source": [
    "## Exercise 2: Visualize the EntityStatus and RegistrationStatus of the entities you identified in exercise 1"
   ]
  },
  {
   "cell_type": "markdown",
   "metadata": {},
   "source": [
    "Each LEI Record has an EntityStatus (Entity.EntityStatus) and a RegistrationStatus (Registration.RegistrationStatus). Based on your results from exercise 1, please \n",
    "\n",
    "visualize the EntityStatus and the RegistrationStatus for these LEI Records. \n",
    "\n",
    "Can you describe how the fields EntityStatus and RegistrationStatus are related to each other?"
   ]
  },
  {
   "cell_type": "code",
   "execution_count": 33,
   "metadata": {},
   "outputs": [],
   "source": [
    "# plt.figure(figsize=(10,10))\n",
    "# sns.heatmap(df3.corr(),cbar=True,annot=True,cmap='Blues')\n",
    "# plt.title('Correlation heat map', fontweight='bold')"
   ]
  },
  {
   "cell_type": "code",
   "execution_count": 18,
   "metadata": {},
   "outputs": [],
   "source": [
    "#Renaming the column names\n",
    "df4 = df3.rename(columns={\"Entity.EntityStatus\": \"EntityStatus\", \"Entity.LegalJurisdiction\":\"LegalJurisdiction\", \n",
    "\"Registration.RegistrationStatus\": \"RegistrationStatus\"})"
   ]
  },
  {
   "cell_type": "code",
   "execution_count": 19,
   "metadata": {},
   "outputs": [
    {
     "data": {
      "text/html": [
       "<div>\n",
       "<style scoped>\n",
       "    .dataframe tbody tr th:only-of-type {\n",
       "        vertical-align: middle;\n",
       "    }\n",
       "\n",
       "    .dataframe tbody tr th {\n",
       "        vertical-align: top;\n",
       "    }\n",
       "\n",
       "    .dataframe thead th {\n",
       "        text-align: right;\n",
       "    }\n",
       "</style>\n",
       "<table border=\"1\" class=\"dataframe\">\n",
       "  <thead>\n",
       "    <tr style=\"text-align: right;\">\n",
       "      <th></th>\n",
       "      <th>LEI</th>\n",
       "      <th>Entity.LegalName</th>\n",
       "      <th>LegalJurisdiction</th>\n",
       "      <th>Entity.LegalForm.EntityLegalFormCode</th>\n",
       "      <th>EntityStatus</th>\n",
       "      <th>Entity.RegistrationAuthority.RegistrationAuthorityEntityID</th>\n",
       "      <th>Entity.EntityCategory</th>\n",
       "      <th>RegistrationStatus</th>\n",
       "      <th>Registration.LastUpdateDate</th>\n",
       "    </tr>\n",
       "  </thead>\n",
       "  <tbody>\n",
       "    <tr>\n",
       "      <th>3740</th>\n",
       "      <td>0TMBS544NMO7GLCE7H90</td>\n",
       "      <td>ABRDN PLC</td>\n",
       "      <td>GB</td>\n",
       "      <td>B6ES</td>\n",
       "      <td>ACTIVE</td>\n",
       "      <td>SC286832</td>\n",
       "      <td>GENERAL</td>\n",
       "      <td>ISSUED</td>\n",
       "      <td>2022-03-28T14:21:02.157Z</td>\n",
       "    </tr>\n",
       "    <tr>\n",
       "      <th>4389</th>\n",
       "      <td>2138001123F8QFPOZ919</td>\n",
       "      <td>TANGENT COMMUNICATIONS PLC</td>\n",
       "      <td>GB</td>\n",
       "      <td>B6ES</td>\n",
       "      <td>ACTIVE</td>\n",
       "      <td>03967805</td>\n",
       "      <td>GENERAL</td>\n",
       "      <td>LAPSED</td>\n",
       "      <td>2019-01-15T13:19:01.703Z</td>\n",
       "    </tr>\n",
       "  </tbody>\n",
       "</table>\n",
       "</div>"
      ],
      "text/plain": [
       "                       LEI            Entity.LegalName LegalJurisdiction  \\\n",
       "3740  0TMBS544NMO7GLCE7H90                   ABRDN PLC                GB   \n",
       "4389  2138001123F8QFPOZ919  TANGENT COMMUNICATIONS PLC                GB   \n",
       "\n",
       "     Entity.LegalForm.EntityLegalFormCode EntityStatus  \\\n",
       "3740                                 B6ES       ACTIVE   \n",
       "4389                                 B6ES       ACTIVE   \n",
       "\n",
       "     Entity.RegistrationAuthority.RegistrationAuthorityEntityID  \\\n",
       "3740                                           SC286832           \n",
       "4389                                           03967805           \n",
       "\n",
       "     Entity.EntityCategory RegistrationStatus Registration.LastUpdateDate  \n",
       "3740               GENERAL             ISSUED    2022-03-28T14:21:02.157Z  \n",
       "4389               GENERAL             LAPSED    2019-01-15T13:19:01.703Z  "
      ]
     },
     "execution_count": 19,
     "metadata": {},
     "output_type": "execute_result"
    }
   ],
   "source": [
    "df4.head(2)"
   ]
  },
  {
   "cell_type": "code",
   "execution_count": 58,
   "metadata": {},
   "outputs": [],
   "source": [
    "cleanup = {\"RegistrationStatus\":{\"ISSUED\": 1, \"LAPSED\": 0, \"RETIRED\": 2, \"DUPLICATE\": 3, \"PENDING_ARCHIVAL\": 4}, \"EntityStatus\":{\"ACTIVE\":1, \"INACTIVE\":0}}\n",
    "df4 = df4.replace(cleanup)"
   ]
  },
  {
   "cell_type": "code",
   "execution_count": 59,
   "metadata": {},
   "outputs": [
    {
     "data": {
      "text/html": [
       "<div>\n",
       "<style scoped>\n",
       "    .dataframe tbody tr th:only-of-type {\n",
       "        vertical-align: middle;\n",
       "    }\n",
       "\n",
       "    .dataframe tbody tr th {\n",
       "        vertical-align: top;\n",
       "    }\n",
       "\n",
       "    .dataframe thead th {\n",
       "        text-align: right;\n",
       "    }\n",
       "</style>\n",
       "<table border=\"1\" class=\"dataframe\">\n",
       "  <thead>\n",
       "    <tr style=\"text-align: right;\">\n",
       "      <th></th>\n",
       "      <th>LEI</th>\n",
       "      <th>Entity.LegalName</th>\n",
       "      <th>LegalJurisdiction</th>\n",
       "      <th>Entity.LegalForm.EntityLegalFormCode</th>\n",
       "      <th>EntityStatus</th>\n",
       "      <th>Entity.RegistrationAuthority.RegistrationAuthorityEntityID</th>\n",
       "      <th>Entity.EntityCategory</th>\n",
       "      <th>RegistrationStatus</th>\n",
       "      <th>Registration.LastUpdateDate</th>\n",
       "    </tr>\n",
       "  </thead>\n",
       "  <tbody>\n",
       "    <tr>\n",
       "      <th>3740</th>\n",
       "      <td>0TMBS544NMO7GLCE7H90</td>\n",
       "      <td>ABRDN PLC</td>\n",
       "      <td>GB</td>\n",
       "      <td>B6ES</td>\n",
       "      <td>1.0</td>\n",
       "      <td>SC286832</td>\n",
       "      <td>GENERAL</td>\n",
       "      <td>1</td>\n",
       "      <td>2022-03-28T14:21:02.157Z</td>\n",
       "    </tr>\n",
       "    <tr>\n",
       "      <th>4389</th>\n",
       "      <td>2138001123F8QFPOZ919</td>\n",
       "      <td>TANGENT COMMUNICATIONS PLC</td>\n",
       "      <td>GB</td>\n",
       "      <td>B6ES</td>\n",
       "      <td>1.0</td>\n",
       "      <td>03967805</td>\n",
       "      <td>GENERAL</td>\n",
       "      <td>0</td>\n",
       "      <td>2019-01-15T13:19:01.703Z</td>\n",
       "    </tr>\n",
       "  </tbody>\n",
       "</table>\n",
       "</div>"
      ],
      "text/plain": [
       "                       LEI            Entity.LegalName LegalJurisdiction  \\\n",
       "3740  0TMBS544NMO7GLCE7H90                   ABRDN PLC                GB   \n",
       "4389  2138001123F8QFPOZ919  TANGENT COMMUNICATIONS PLC                GB   \n",
       "\n",
       "     Entity.LegalForm.EntityLegalFormCode  EntityStatus  \\\n",
       "3740                                 B6ES           1.0   \n",
       "4389                                 B6ES           1.0   \n",
       "\n",
       "     Entity.RegistrationAuthority.RegistrationAuthorityEntityID  \\\n",
       "3740                                           SC286832           \n",
       "4389                                           03967805           \n",
       "\n",
       "     Entity.EntityCategory  RegistrationStatus Registration.LastUpdateDate  \n",
       "3740               GENERAL                   1    2022-03-28T14:21:02.157Z  \n",
       "4389               GENERAL                   0    2019-01-15T13:19:01.703Z  "
      ]
     },
     "execution_count": 59,
     "metadata": {},
     "output_type": "execute_result"
    }
   ],
   "source": [
    "df4.head(2)"
   ]
  },
  {
   "cell_type": "code",
   "execution_count": 55,
   "metadata": {},
   "outputs": [
    {
     "data": {
      "text/html": [
       "<div>\n",
       "<style scoped>\n",
       "    .dataframe tbody tr th:only-of-type {\n",
       "        vertical-align: middle;\n",
       "    }\n",
       "\n",
       "    .dataframe tbody tr th {\n",
       "        vertical-align: top;\n",
       "    }\n",
       "\n",
       "    .dataframe thead th {\n",
       "        text-align: right;\n",
       "    }\n",
       "</style>\n",
       "<table border=\"1\" class=\"dataframe\">\n",
       "  <thead>\n",
       "    <tr style=\"text-align: right;\">\n",
       "      <th></th>\n",
       "      <th>LEI</th>\n",
       "      <th>Entity.LegalName</th>\n",
       "      <th>LegalJurisdiction</th>\n",
       "      <th>Entity.LegalForm.EntityLegalFormCode</th>\n",
       "      <th>EntityStatus</th>\n",
       "      <th>Entity.RegistrationAuthority.RegistrationAuthorityEntityID</th>\n",
       "      <th>Entity.EntityCategory</th>\n",
       "      <th>RegistrationStatus</th>\n",
       "      <th>Registration.LastUpdateDate</th>\n",
       "    </tr>\n",
       "  </thead>\n",
       "  <tbody>\n",
       "    <tr>\n",
       "      <th>93950</th>\n",
       "      <td>ZIMCVQHUFZ8GVHENP290</td>\n",
       "      <td>BUPA FINANCE PLC.</td>\n",
       "      <td>GB</td>\n",
       "      <td>B6ES</td>\n",
       "      <td>1</td>\n",
       "      <td>02779134</td>\n",
       "      <td>GENERAL</td>\n",
       "      <td>1</td>\n",
       "      <td>2022-01-11T21:31:00.000Z</td>\n",
       "    </tr>\n",
       "    <tr>\n",
       "      <th>93992</th>\n",
       "      <td>ZLECI7ED2QMWFGYCXZ59</td>\n",
       "      <td>ITV PLC</td>\n",
       "      <td>GB</td>\n",
       "      <td>B6ES</td>\n",
       "      <td>1</td>\n",
       "      <td>04967001</td>\n",
       "      <td>GENERAL</td>\n",
       "      <td>1</td>\n",
       "      <td>2021-07-22T15:31:00.000Z</td>\n",
       "    </tr>\n",
       "  </tbody>\n",
       "</table>\n",
       "</div>"
      ],
      "text/plain": [
       "                        LEI   Entity.LegalName LegalJurisdiction  \\\n",
       "93950  ZIMCVQHUFZ8GVHENP290  BUPA FINANCE PLC.                GB   \n",
       "93992  ZLECI7ED2QMWFGYCXZ59            ITV PLC                GB   \n",
       "\n",
       "      Entity.LegalForm.EntityLegalFormCode  EntityStatus  \\\n",
       "93950                                 B6ES             1   \n",
       "93992                                 B6ES             1   \n",
       "\n",
       "      Entity.RegistrationAuthority.RegistrationAuthorityEntityID  \\\n",
       "93950                                           02779134           \n",
       "93992                                           04967001           \n",
       "\n",
       "      Entity.EntityCategory  RegistrationStatus Registration.LastUpdateDate  \n",
       "93950               GENERAL                   1    2022-01-11T21:31:00.000Z  \n",
       "93992               GENERAL                   1    2021-07-22T15:31:00.000Z  "
      ]
     },
     "execution_count": 55,
     "metadata": {},
     "output_type": "execute_result"
    }
   ],
   "source": [
    "df4.tail(2)"
   ]
  },
  {
   "cell_type": "code",
   "execution_count": 64,
   "metadata": {},
   "outputs": [
    {
     "data": {
      "text/plain": [
       "Dask Series Structure:\n",
       "npartitions=1\n",
       "    int64\n",
       "      ...\n",
       "Name: RegistrationStatus, dtype: int64\n",
       "Dask Name: value-counts-agg, 349 tasks"
      ]
     },
     "execution_count": 64,
     "metadata": {},
     "output_type": "execute_result"
    }
   ],
   "source": [
    "df4[\"RegistrationStatus\"].value_counts()"
   ]
  },
  {
   "cell_type": "code",
   "execution_count": 63,
   "metadata": {},
   "outputs": [
    {
     "data": {
      "text/plain": [
       "Dask Series Structure:\n",
       "npartitions=1\n",
       "    int64\n",
       "      ...\n",
       "Name: EntityStatus, dtype: int64\n",
       "Dask Name: value-counts-agg, 349 tasks"
      ]
     },
     "execution_count": 63,
     "metadata": {},
     "output_type": "execute_result"
    }
   ],
   "source": [
    "df4[\"EntityStatus\"].value_counts()"
   ]
  },
  {
   "cell_type": "code",
   "execution_count": 27,
   "metadata": {},
   "outputs": [],
   "source": [
    "import matplotlib.pyplot as plt\n",
    "import seaborn as sns"
   ]
  },
  {
   "cell_type": "code",
   "execution_count": 47,
   "metadata": {},
   "outputs": [
    {
     "data": {
      "text/plain": [
       "<AxesSubplot:xlabel='EntityStatus', ylabel='Count'>"
      ]
     },
     "execution_count": 47,
     "metadata": {},
     "output_type": "execute_result"
    },
    {
     "data": {
      "image/png": "[encoded data removed]",
      "text/plain": [
       "<Figure size 720x360 with 1 Axes>"
      ]
     },
     "metadata": {
      "needs_background": "light"
     },
     "output_type": "display_data"
    }
   ],
   "source": [
    "plt.figure(figsize=(10,5))\n",
    "sns.histplot(x=\"EntityStatus\", data=df4)\n"
   ]
  },
  {
   "cell_type": "code",
   "execution_count": 60,
   "metadata": {},
   "outputs": [
    {
     "data": {
      "text/plain": [
       "<AxesSubplot:xlabel='RegistrationStatus', ylabel='Count'>"
      ]
     },
     "execution_count": 60,
     "metadata": {},
     "output_type": "execute_result"
    },
    {
     "data": {
      "image/png": "[encoded data removed]",
      "text/plain": [
       "<Figure size 720x360 with 1 Axes>"
      ]
     },
     "metadata": {
      "needs_background": "light"
     },
     "output_type": "display_data"
    }
   ],
   "source": [
    "plt.figure(figsize=(10,5))\n",
    "sns.histplot(x=\"RegistrationStatus\", data=df4)"
   ]
  },
  {
   "cell_type": "code",
   "execution_count": 65,
   "metadata": {},
   "outputs": [],
   "source": [
    "# plt.figure(figsize=(10,5))\n",
    "# sns.countplot(x=\"LegalJurisdiction\", hue=\"EntityStatus\", data=df4)"
   ]
  },
  {
   "cell_type": "markdown",
   "metadata": {},
   "source": [
    "### Exercise 3: Find the ultimate parents of all entities from exercise 1"
   ]
  },
  {
   "cell_type": "markdown",
   "metadata": {},
   "source": [
    "In exercise 1 and 2 we used the so-called LEI data (LEI-CDF v3.1 files). \n",
    "For exercise 3 we will additionally use the so-called relationship data (RR-CDF v2.1 files).\n",
    "To identify an ultimate parent, you need to only consider those relationship records with\n",
    "Relationship.RelationshipType ‘IS_ULTIMATELY_CONSOLIDATED_BY’. The\n",
    "Relationship.StartNode.NodeID indicates the child of a relationship. For this exercise we are only\n",
    "interested in those StartNodes that you have identified in exercise 1. The\n",
    "Relationship.EndNode.NodeID denotes the LEI code of the parent entity of the respective\n",
    "StartNode.\n",
    "\n",
    "How many ultimate parents did you find?\n",
    "How would you explain “missing” ultimate parents?"
   ]
  },
  {
   "cell_type": "markdown",
   "metadata": {},
   "source": [
    "### Exercise 3: Identify potential duplicates in Great Britain"
   ]
  },
  {
   "cell_type": "markdown",
   "metadata": {},
   "source": [
    "\n",
    "In the Global LEI System each legal entity shall only receive one unique LEI code. In some rare\n",
    "cases it can happen that two LEI codes are assigned to the same legal entity. If such a duplicate\n",
    "has been identified, one of the duplicate records will receive the RegistrationStatus DUPLICATE.\n",
    "These duplicate records remain in the Global LEI repository, as the LEI is a life long identifier and\n",
    "can never be reused. Please identify potential duplicates in the legal jurisdiction of Great Britain (GB) based on similar\n",
    "legal names (Entity.LegalName).\n",
    "\n",
    "What is your approach to compare the different legal names?\n",
    "Which other elements of the reference data besides the legal name could be used to identify\n",
    "duplicate records?"
   ]
  },
  {
   "cell_type": "code",
   "execution_count": 66,
   "metadata": {},
   "outputs": [
    {
     "data": {
      "text/html": [
       "<div>\n",
       "<style scoped>\n",
       "    .dataframe tbody tr th:only-of-type {\n",
       "        vertical-align: middle;\n",
       "    }\n",
       "\n",
       "    .dataframe tbody tr th {\n",
       "        vertical-align: top;\n",
       "    }\n",
       "\n",
       "    .dataframe thead th {\n",
       "        text-align: right;\n",
       "    }\n",
       "</style>\n",
       "<table border=\"1\" class=\"dataframe\">\n",
       "  <thead>\n",
       "    <tr style=\"text-align: right;\">\n",
       "      <th></th>\n",
       "      <th>LEI</th>\n",
       "      <th>Entity.LegalName</th>\n",
       "      <th>Entity.LegalJurisdiction</th>\n",
       "      <th>Entity.LegalForm.EntityLegalFormCode</th>\n",
       "      <th>Entity.EntityStatus</th>\n",
       "      <th>Entity.RegistrationAuthority.RegistrationAuthorityEntityID</th>\n",
       "      <th>Entity.EntityCategory</th>\n",
       "      <th>Registration.RegistrationStatus</th>\n",
       "      <th>Registration.LastUpdateDate</th>\n",
       "    </tr>\n",
       "  </thead>\n",
       "  <tbody>\n",
       "    <tr>\n",
       "      <th>3740</th>\n",
       "      <td>0TMBS544NMO7GLCE7H90</td>\n",
       "      <td>ABRDN PLC</td>\n",
       "      <td>GB</td>\n",
       "      <td>B6ES</td>\n",
       "      <td>ACTIVE</td>\n",
       "      <td>SC286832</td>\n",
       "      <td>GENERAL</td>\n",
       "      <td>ISSUED</td>\n",
       "      <td>2022-03-28T14:21:02.157Z</td>\n",
       "    </tr>\n",
       "    <tr>\n",
       "      <th>4389</th>\n",
       "      <td>2138001123F8QFPOZ919</td>\n",
       "      <td>TANGENT COMMUNICATIONS PLC</td>\n",
       "      <td>GB</td>\n",
       "      <td>B6ES</td>\n",
       "      <td>ACTIVE</td>\n",
       "      <td>03967805</td>\n",
       "      <td>GENERAL</td>\n",
       "      <td>LAPSED</td>\n",
       "      <td>2019-01-15T13:19:01.703Z</td>\n",
       "    </tr>\n",
       "  </tbody>\n",
       "</table>\n",
       "</div>"
      ],
      "text/plain": [
       "                       LEI            Entity.LegalName  \\\n",
       "3740  0TMBS544NMO7GLCE7H90                   ABRDN PLC   \n",
       "4389  2138001123F8QFPOZ919  TANGENT COMMUNICATIONS PLC   \n",
       "\n",
       "     Entity.LegalJurisdiction Entity.LegalForm.EntityLegalFormCode  \\\n",
       "3740                       GB                                 B6ES   \n",
       "4389                       GB                                 B6ES   \n",
       "\n",
       "     Entity.EntityStatus  \\\n",
       "3740              ACTIVE   \n",
       "4389              ACTIVE   \n",
       "\n",
       "     Entity.RegistrationAuthority.RegistrationAuthorityEntityID  \\\n",
       "3740                                           SC286832           \n",
       "4389                                           03967805           \n",
       "\n",
       "     Entity.EntityCategory Registration.RegistrationStatus  \\\n",
       "3740               GENERAL                          ISSUED   \n",
       "4389               GENERAL                          LAPSED   \n",
       "\n",
       "     Registration.LastUpdateDate  \n",
       "3740    2022-03-28T14:21:02.157Z  \n",
       "4389    2019-01-15T13:19:01.703Z  "
      ]
     },
     "execution_count": 66,
     "metadata": {},
     "output_type": "execute_result"
    }
   ],
   "source": [
    "df3.head(2)"
   ]
  },
  {
   "cell_type": "code",
   "execution_count": 67,
   "metadata": {},
   "outputs": [],
   "source": [
    "df5 = df3.loc[df3[\"Registration.RegistrationStatus\"]== \"DUPLICATE\"]"
   ]
  },
  {
   "cell_type": "code",
   "execution_count": 68,
   "metadata": {},
   "outputs": [
    {
     "name": "stderr",
     "output_type": "stream",
     "text": [
      "/root/.pyenv/versions/3.9.4/lib/python3.9/site-packages/dask/dataframe/core.py:7480: UserWarning: Insufficient elements for `head`. 10 elements requested, only 1 elements available. Try passing larger `npartitions` to `head`.\n",
      "  warnings.warn(\n"
     ]
    },
    {
     "data": {
      "text/html": [
       "<div>\n",
       "<style scoped>\n",
       "    .dataframe tbody tr th:only-of-type {\n",
       "        vertical-align: middle;\n",
       "    }\n",
       "\n",
       "    .dataframe tbody tr th {\n",
       "        vertical-align: top;\n",
       "    }\n",
       "\n",
       "    .dataframe thead th {\n",
       "        text-align: right;\n",
       "    }\n",
       "</style>\n",
       "<table border=\"1\" class=\"dataframe\">\n",
       "  <thead>\n",
       "    <tr style=\"text-align: right;\">\n",
       "      <th></th>\n",
       "      <th>LEI</th>\n",
       "      <th>Entity.LegalName</th>\n",
       "      <th>Entity.LegalJurisdiction</th>\n",
       "      <th>Entity.LegalForm.EntityLegalFormCode</th>\n",
       "      <th>Entity.EntityStatus</th>\n",
       "      <th>Entity.RegistrationAuthority.RegistrationAuthorityEntityID</th>\n",
       "      <th>Entity.EntityCategory</th>\n",
       "      <th>Registration.RegistrationStatus</th>\n",
       "      <th>Registration.LastUpdateDate</th>\n",
       "    </tr>\n",
       "  </thead>\n",
       "  <tbody>\n",
       "    <tr>\n",
       "      <th>93800</th>\n",
       "      <td>213800GBJ1RNNUKP2182</td>\n",
       "      <td>OROGEN PLC</td>\n",
       "      <td>GB</td>\n",
       "      <td>B6ES</td>\n",
       "      <td>NaN</td>\n",
       "      <td>05379931</td>\n",
       "      <td>GENERAL</td>\n",
       "      <td>DUPLICATE</td>\n",
       "      <td>2022-03-24T07:38:44.517Z</td>\n",
       "    </tr>\n",
       "  </tbody>\n",
       "</table>\n",
       "</div>"
      ],
      "text/plain": [
       "                        LEI Entity.LegalName Entity.LegalJurisdiction  \\\n",
       "93800  213800GBJ1RNNUKP2182       OROGEN PLC                       GB   \n",
       "\n",
       "      Entity.LegalForm.EntityLegalFormCode Entity.EntityStatus  \\\n",
       "93800                                 B6ES                 NaN   \n",
       "\n",
       "      Entity.RegistrationAuthority.RegistrationAuthorityEntityID  \\\n",
       "93800                                           05379931           \n",
       "\n",
       "      Entity.EntityCategory Registration.RegistrationStatus  \\\n",
       "93800               GENERAL                       DUPLICATE   \n",
       "\n",
       "      Registration.LastUpdateDate  \n",
       "93800    2022-03-24T07:38:44.517Z  "
      ]
     },
     "execution_count": 68,
     "metadata": {},
     "output_type": "execute_result"
    }
   ],
   "source": [
    "df5.head(10)"
   ]
  }
 ],
 "metadata": {
  "kernelspec": {
   "display_name": "Python 3.9.4 64-bit ('3.9.4')",
   "language": "python",
   "name": "python3"
  },
  "language_info": {
   "codemirror_mode": {
    "name": "ipython",
    "version": 3
   },
   "file_extension": ".py",
   "mimetype": "text/x-python",
   "name": "python",
   "nbconvert_exporter": "python",
   "pygments_lexer": "ipython3",
   "version": "3.9.4"
  },
  "orig_nbformat": 4,
  "vscode": {
   "interpreter": {
    "hash": "d770ca272268c52cb633ea155ed0e9dd1b99be225d3d26a9d6c7d621d9800332"
   }
  }
 },
 "nbformat": 4,
 "nbformat_minor": 2
}
