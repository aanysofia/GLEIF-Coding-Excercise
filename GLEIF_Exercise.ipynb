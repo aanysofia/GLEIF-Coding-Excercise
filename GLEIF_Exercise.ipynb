{
 "cells": [
  {
   "cell_type": "markdown",
   "metadata": {},
   "source": [
    "## GLEIF Data Science Coding Excercise"
   ]
  },
  {
   "cell_type": "markdown",
   "metadata": {},
   "source": [
    "Introduction:\n",
    "\n",
    "The Legal Entity Identifier (LEI) is a unique global identifier for legal entities participating in\n",
    "financial transactions. The Global Legal Entity Identifier Foundation (GLEIF) is responsible for monitoring LEI data quality and integrity of the LEI system."
   ]
  },
  {
   "cell_type": "markdown",
   "metadata": {},
   "source": [
    "Goal of this exercise is \n",
    " 1. To find out all Public Limited Companies (PLCs) in Great Britain\n",
    " 2. Visualization of the EntityStatus and RegistrationStatus of all Public Limited Companies (PLCs) in Great Britain\n",
    " 3. To find out ultimate parents of all PLCs\n",
    " 4. To identify the duplicate LEIs of all entities in Great Britain"
   ]
  },
  {
   "cell_type": "markdown",
   "metadata": {},
   "source": [
    "Data:\n",
    "\n",
    "GLEIF’s Golden Copy files with content provide information on Legal Entity Identifiers (LEIs) and related reference data in a ready-to-use format.\n",
    "\n",
    "We have 2 datasets for doing the exercises. \n",
    "1. LEI-CDF v3.1 files and\n",
    "2. RR-CDF v2.1 files"
   ]
  },
  {
   "cell_type": "markdown",
   "metadata": {},
   "source": [
    "#### Importing the Libraries"
   ]
  },
  {
   "cell_type": "code",
   "execution_count": 18,
   "metadata": {},
   "outputs": [],
   "source": [
    "import pandas as pd\n",
    "import numpy as np\n",
    "\n",
    "import matplotlib.pyplot as plt\n",
    "import seaborn as sns"
   ]
  },
  {
   "cell_type": "markdown",
   "metadata": {},
   "source": [
    "#### Reading the data"
   ]
  },
  {
   "cell_type": "code",
   "execution_count": 4,
   "metadata": {},
   "outputs": [],
   "source": [
    "import dask.dataframe as dd\n",
    "df = dd.read_csv('data/gleif1.csv', dtype=str)"
   ]
  },
  {
   "cell_type": "code",
   "execution_count": 5,
   "metadata": {},
   "outputs": [
    {
     "data": {
      "text/html": [
       "<div>\n",
       "<style scoped>\n",
       "    .dataframe tbody tr th:only-of-type {\n",
       "        vertical-align: middle;\n",
       "    }\n",
       "\n",
       "    .dataframe tbody tr th {\n",
       "        vertical-align: top;\n",
       "    }\n",
       "\n",
       "    .dataframe thead th {\n",
       "        text-align: right;\n",
       "    }\n",
       "</style>\n",
       "<table border=\"1\" class=\"dataframe\">\n",
       "  <thead>\n",
       "    <tr style=\"text-align: right;\">\n",
       "      <th></th>\n",
       "      <th>LEI</th>\n",
       "      <th>Entity.LegalName</th>\n",
       "      <th>Entity.LegalName.xmllang</th>\n",
       "      <th>Entity.OtherEntityNames.OtherEntityName.1</th>\n",
       "      <th>Entity.OtherEntityNames.OtherEntityName.1.xmllang</th>\n",
       "      <th>Entity.OtherEntityNames.OtherEntityName.1.type</th>\n",
       "      <th>Entity.OtherEntityNames.OtherEntityName.2</th>\n",
       "      <th>Entity.OtherEntityNames.OtherEntityName.2.xmllang</th>\n",
       "      <th>Entity.OtherEntityNames.OtherEntityName.2.type</th>\n",
       "      <th>Entity.OtherEntityNames.OtherEntityName.3</th>\n",
       "      <th>...</th>\n",
       "      <th>Registration.OtherValidationAuthorities.OtherValidationAuthority.2.ValidationAuthorityEntityID</th>\n",
       "      <th>Registration.OtherValidationAuthorities.OtherValidationAuthority.3.ValidationAuthorityID</th>\n",
       "      <th>Registration.OtherValidationAuthorities.OtherValidationAuthority.3.OtherValidationAuthorityID</th>\n",
       "      <th>Registration.OtherValidationAuthorities.OtherValidationAuthority.3.ValidationAuthorityEntityID</th>\n",
       "      <th>Registration.OtherValidationAuthorities.OtherValidationAuthority.4.ValidationAuthorityID</th>\n",
       "      <th>Registration.OtherValidationAuthorities.OtherValidationAuthority.4.OtherValidationAuthorityID</th>\n",
       "      <th>Registration.OtherValidationAuthorities.OtherValidationAuthority.4.ValidationAuthorityEntityID</th>\n",
       "      <th>Registration.OtherValidationAuthorities.OtherValidationAuthority.5.ValidationAuthorityID</th>\n",
       "      <th>Registration.OtherValidationAuthorities.OtherValidationAuthority.5.OtherValidationAuthorityID</th>\n",
       "      <th>Registration.OtherValidationAuthorities.OtherValidationAuthority.5.ValidationAuthorityEntityID</th>\n",
       "    </tr>\n",
       "  </thead>\n",
       "  <tbody>\n",
       "    <tr>\n",
       "      <th>0</th>\n",
       "      <td>001GPB6A9XPE8XJICC14</td>\n",
       "      <td>FIDELITY ADVISOR SERIES I - Fidelity Advisor L...</td>\n",
       "      <td>en</td>\n",
       "      <td>NaN</td>\n",
       "      <td>NaN</td>\n",
       "      <td>NaN</td>\n",
       "      <td>NaN</td>\n",
       "      <td>NaN</td>\n",
       "      <td>NaN</td>\n",
       "      <td>NaN</td>\n",
       "      <td>...</td>\n",
       "      <td>NaN</td>\n",
       "      <td>NaN</td>\n",
       "      <td>NaN</td>\n",
       "      <td>NaN</td>\n",
       "      <td>NaN</td>\n",
       "      <td>NaN</td>\n",
       "      <td>NaN</td>\n",
       "      <td>NaN</td>\n",
       "      <td>NaN</td>\n",
       "      <td>NaN</td>\n",
       "    </tr>\n",
       "    <tr>\n",
       "      <th>1</th>\n",
       "      <td>004L5FPTUREIWK9T2N63</td>\n",
       "      <td>Hutchin Hill Capital, LP</td>\n",
       "      <td>en</td>\n",
       "      <td>NaN</td>\n",
       "      <td>NaN</td>\n",
       "      <td>NaN</td>\n",
       "      <td>NaN</td>\n",
       "      <td>NaN</td>\n",
       "      <td>NaN</td>\n",
       "      <td>NaN</td>\n",
       "      <td>...</td>\n",
       "      <td>NaN</td>\n",
       "      <td>NaN</td>\n",
       "      <td>NaN</td>\n",
       "      <td>NaN</td>\n",
       "      <td>NaN</td>\n",
       "      <td>NaN</td>\n",
       "      <td>NaN</td>\n",
       "      <td>NaN</td>\n",
       "      <td>NaN</td>\n",
       "      <td>NaN</td>\n",
       "    </tr>\n",
       "  </tbody>\n",
       "</table>\n",
       "<p>2 rows × 337 columns</p>\n",
       "</div>"
      ],
      "text/plain": [
       "                    LEI                                   Entity.LegalName  \\\n",
       "0  001GPB6A9XPE8XJICC14  FIDELITY ADVISOR SERIES I - Fidelity Advisor L...   \n",
       "1  004L5FPTUREIWK9T2N63                           Hutchin Hill Capital, LP   \n",
       "\n",
       "  Entity.LegalName.xmllang Entity.OtherEntityNames.OtherEntityName.1  \\\n",
       "0                       en                                       NaN   \n",
       "1                       en                                       NaN   \n",
       "\n",
       "  Entity.OtherEntityNames.OtherEntityName.1.xmllang  \\\n",
       "0                                               NaN   \n",
       "1                                               NaN   \n",
       "\n",
       "  Entity.OtherEntityNames.OtherEntityName.1.type  \\\n",
       "0                                            NaN   \n",
       "1                                            NaN   \n",
       "\n",
       "  Entity.OtherEntityNames.OtherEntityName.2  \\\n",
       "0                                       NaN   \n",
       "1                                       NaN   \n",
       "\n",
       "  Entity.OtherEntityNames.OtherEntityName.2.xmllang  \\\n",
       "0                                               NaN   \n",
       "1                                               NaN   \n",
       "\n",
       "  Entity.OtherEntityNames.OtherEntityName.2.type  \\\n",
       "0                                            NaN   \n",
       "1                                            NaN   \n",
       "\n",
       "  Entity.OtherEntityNames.OtherEntityName.3  ...  \\\n",
       "0                                       NaN  ...   \n",
       "1                                       NaN  ...   \n",
       "\n",
       "  Registration.OtherValidationAuthorities.OtherValidationAuthority.2.ValidationAuthorityEntityID  \\\n",
       "0                                                NaN                                               \n",
       "1                                                NaN                                               \n",
       "\n",
       "  Registration.OtherValidationAuthorities.OtherValidationAuthority.3.ValidationAuthorityID  \\\n",
       "0                                                NaN                                         \n",
       "1                                                NaN                                         \n",
       "\n",
       "  Registration.OtherValidationAuthorities.OtherValidationAuthority.3.OtherValidationAuthorityID  \\\n",
       "0                                                NaN                                              \n",
       "1                                                NaN                                              \n",
       "\n",
       "  Registration.OtherValidationAuthorities.OtherValidationAuthority.3.ValidationAuthorityEntityID  \\\n",
       "0                                                NaN                                               \n",
       "1                                                NaN                                               \n",
       "\n",
       "  Registration.OtherValidationAuthorities.OtherValidationAuthority.4.ValidationAuthorityID  \\\n",
       "0                                                NaN                                         \n",
       "1                                                NaN                                         \n",
       "\n",
       "  Registration.OtherValidationAuthorities.OtherValidationAuthority.4.OtherValidationAuthorityID  \\\n",
       "0                                                NaN                                              \n",
       "1                                                NaN                                              \n",
       "\n",
       "  Registration.OtherValidationAuthorities.OtherValidationAuthority.4.ValidationAuthorityEntityID  \\\n",
       "0                                                NaN                                               \n",
       "1                                                NaN                                               \n",
       "\n",
       "  Registration.OtherValidationAuthorities.OtherValidationAuthority.5.ValidationAuthorityID  \\\n",
       "0                                                NaN                                         \n",
       "1                                                NaN                                         \n",
       "\n",
       "  Registration.OtherValidationAuthorities.OtherValidationAuthority.5.OtherValidationAuthorityID  \\\n",
       "0                                                NaN                                              \n",
       "1                                                NaN                                              \n",
       "\n",
       "  Registration.OtherValidationAuthorities.OtherValidationAuthority.5.ValidationAuthorityEntityID  \n",
       "0                                                NaN                                              \n",
       "1                                                NaN                                              \n",
       "\n",
       "[2 rows x 337 columns]"
      ]
     },
     "execution_count": 5,
     "metadata": {},
     "output_type": "execute_result"
    }
   ],
   "source": [
    "df.head(2)"
   ]
  },
  {
   "cell_type": "markdown",
   "metadata": {},
   "source": [
    "#### Checking the column names"
   ]
  },
  {
   "cell_type": "code",
   "execution_count": 71,
   "metadata": {},
   "outputs": [
    {
     "data": {
      "text/plain": [
       "Index(['LEI', 'Entity.LegalName', 'Entity.LegalName.xmllang',\n",
       "       'Entity.OtherEntityNames.OtherEntityName.1',\n",
       "       'Entity.OtherEntityNames.OtherEntityName.1.xmllang',\n",
       "       'Entity.OtherEntityNames.OtherEntityName.1.type',\n",
       "       'Entity.OtherEntityNames.OtherEntityName.2',\n",
       "       'Entity.OtherEntityNames.OtherEntityName.2.xmllang',\n",
       "       'Entity.OtherEntityNames.OtherEntityName.2.type',\n",
       "       'Entity.OtherEntityNames.OtherEntityName.3',\n",
       "       ...\n",
       "       'Registration.OtherValidationAuthorities.OtherValidationAuthority.2.ValidationAuthorityEntityID',\n",
       "       'Registration.OtherValidationAuthorities.OtherValidationAuthority.3.ValidationAuthorityID',\n",
       "       'Registration.OtherValidationAuthorities.OtherValidationAuthority.3.OtherValidationAuthorityID',\n",
       "       'Registration.OtherValidationAuthorities.OtherValidationAuthority.3.ValidationAuthorityEntityID',\n",
       "       'Registration.OtherValidationAuthorities.OtherValidationAuthority.4.ValidationAuthorityID',\n",
       "       'Registration.OtherValidationAuthorities.OtherValidationAuthority.4.OtherValidationAuthorityID',\n",
       "       'Registration.OtherValidationAuthorities.OtherValidationAuthority.4.ValidationAuthorityEntityID',\n",
       "       'Registration.OtherValidationAuthorities.OtherValidationAuthority.5.ValidationAuthorityID',\n",
       "       'Registration.OtherValidationAuthorities.OtherValidationAuthority.5.OtherValidationAuthorityID',\n",
       "       'Registration.OtherValidationAuthorities.OtherValidationAuthority.5.ValidationAuthorityEntityID'],\n",
       "      dtype='object', length=337)"
      ]
     },
     "execution_count": 71,
     "metadata": {},
     "output_type": "execute_result"
    }
   ],
   "source": [
    "df.columns"
   ]
  },
  {
   "cell_type": "markdown",
   "metadata": {},
   "source": [
    "**There are 337 columns present in this dataframe.**"
   ]
  },
  {
   "cell_type": "code",
   "execution_count": 6,
   "metadata": {},
   "outputs": [
    {
     "data": {
      "text/plain": [
       "(Delayed('int-9237811b-bd7f-4ddf-a9fb-b394e5ec095b'), 337)"
      ]
     },
     "execution_count": 6,
     "metadata": {},
     "output_type": "execute_result"
    }
   ],
   "source": [
    "df.shape"
   ]
  },
  {
   "cell_type": "markdown",
   "metadata": {},
   "source": [
    "**The columns which are required from the above dataframe, for doing these excercise are;**\n",
    "\n",
    "LEI\n",
    "\n",
    "Entity.LegalName\n",
    "\n",
    "Entity.LegalJurisdiction\n",
    "\n",
    "Entity.LegalForm.EntityLegalFormCode\n",
    "\n",
    "Entity.EntityStatus\n",
    "\n",
    "Entity.RegistrationAuthority.RegistrationAuthorityEntityID\n",
    "\n",
    "Entity.EntityCategory\n",
    "\n",
    "Registration.RegistrationStatus\n",
    "\n",
    "Registration.LastUpdateDate"
   ]
  },
  {
   "cell_type": "markdown",
   "metadata": {},
   "source": [
    "#### Making a new dataframe with only required columns"
   ]
  },
  {
   "cell_type": "code",
   "execution_count": 8,
   "metadata": {},
   "outputs": [],
   "source": [
    "df2 = df[[\"LEI\", \"Entity.LegalName\", \"Entity.LegalJurisdiction\",\"Entity.LegalForm.EntityLegalFormCode\", \"Entity.EntityStatus\", \"Entity.RegistrationAuthority.RegistrationAuthorityEntityID\",\n",
    " \"Entity.EntityCategory\", \"Registration.RegistrationStatus\", \"Registration.LastUpdateDate\"]]"
   ]
  },
  {
   "cell_type": "code",
   "execution_count": 9,
   "metadata": {},
   "outputs": [
    {
     "data": {
      "text/html": [
       "<div>\n",
       "<style scoped>\n",
       "    .dataframe tbody tr th:only-of-type {\n",
       "        vertical-align: middle;\n",
       "    }\n",
       "\n",
       "    .dataframe tbody tr th {\n",
       "        vertical-align: top;\n",
       "    }\n",
       "\n",
       "    .dataframe thead th {\n",
       "        text-align: right;\n",
       "    }\n",
       "</style>\n",
       "<table border=\"1\" class=\"dataframe\">\n",
       "  <thead>\n",
       "    <tr style=\"text-align: right;\">\n",
       "      <th></th>\n",
       "      <th>LEI</th>\n",
       "      <th>Entity.LegalName</th>\n",
       "      <th>Entity.LegalJurisdiction</th>\n",
       "      <th>Entity.LegalForm.EntityLegalFormCode</th>\n",
       "      <th>Entity.EntityStatus</th>\n",
       "      <th>Entity.RegistrationAuthority.RegistrationAuthorityEntityID</th>\n",
       "      <th>Entity.EntityCategory</th>\n",
       "      <th>Registration.RegistrationStatus</th>\n",
       "      <th>Registration.LastUpdateDate</th>\n",
       "    </tr>\n",
       "  </thead>\n",
       "  <tbody>\n",
       "    <tr>\n",
       "      <th>0</th>\n",
       "      <td>001GPB6A9XPE8XJICC14</td>\n",
       "      <td>FIDELITY ADVISOR SERIES I - Fidelity Advisor L...</td>\n",
       "      <td>US-MA</td>\n",
       "      <td>8888</td>\n",
       "      <td>ACTIVE</td>\n",
       "      <td>S000005113</td>\n",
       "      <td>FUND</td>\n",
       "      <td>ISSUED</td>\n",
       "      <td>2022-05-20T09:35:00.000Z</td>\n",
       "    </tr>\n",
       "    <tr>\n",
       "      <th>1</th>\n",
       "      <td>004L5FPTUREIWK9T2N63</td>\n",
       "      <td>Hutchin Hill Capital, LP</td>\n",
       "      <td>US-DE</td>\n",
       "      <td>T91T</td>\n",
       "      <td>ACTIVE</td>\n",
       "      <td>4386463</td>\n",
       "      <td>GENERAL</td>\n",
       "      <td>LAPSED</td>\n",
       "      <td>2020-07-17T12:40:00.000Z</td>\n",
       "    </tr>\n",
       "  </tbody>\n",
       "</table>\n",
       "</div>"
      ],
      "text/plain": [
       "                    LEI                                   Entity.LegalName  \\\n",
       "0  001GPB6A9XPE8XJICC14  FIDELITY ADVISOR SERIES I - Fidelity Advisor L...   \n",
       "1  004L5FPTUREIWK9T2N63                           Hutchin Hill Capital, LP   \n",
       "\n",
       "  Entity.LegalJurisdiction Entity.LegalForm.EntityLegalFormCode  \\\n",
       "0                    US-MA                                 8888   \n",
       "1                    US-DE                                 T91T   \n",
       "\n",
       "  Entity.EntityStatus  \\\n",
       "0              ACTIVE   \n",
       "1              ACTIVE   \n",
       "\n",
       "  Entity.RegistrationAuthority.RegistrationAuthorityEntityID  \\\n",
       "0                                         S000005113           \n",
       "1                                            4386463           \n",
       "\n",
       "  Entity.EntityCategory Registration.RegistrationStatus  \\\n",
       "0                  FUND                          ISSUED   \n",
       "1               GENERAL                          LAPSED   \n",
       "\n",
       "  Registration.LastUpdateDate  \n",
       "0    2022-05-20T09:35:00.000Z  \n",
       "1    2020-07-17T12:40:00.000Z  "
      ]
     },
     "execution_count": 9,
     "metadata": {},
     "output_type": "execute_result"
    }
   ],
   "source": [
    "df2.head(2)"
   ]
  },
  {
   "cell_type": "code",
   "execution_count": 10,
   "metadata": {},
   "outputs": [
    {
     "data": {
      "text/plain": [
       "Index(['LEI', 'Entity.LegalName', 'Entity.LegalJurisdiction',\n",
       "       'Entity.LegalForm.EntityLegalFormCode', 'Entity.EntityStatus',\n",
       "       'Entity.RegistrationAuthority.RegistrationAuthorityEntityID',\n",
       "       'Entity.EntityCategory', 'Registration.RegistrationStatus',\n",
       "       'Registration.LastUpdateDate'],\n",
       "      dtype='object')"
      ]
     },
     "execution_count": 10,
     "metadata": {},
     "output_type": "execute_result"
    }
   ],
   "source": [
    "df2.columns"
   ]
  },
  {
   "cell_type": "markdown",
   "metadata": {},
   "source": [
    "## Exercise 1: Find all Public Limited Companies (PLCs) in Great Britain\n",
    "\n",
    "\n",
    "In the LEI data you can identify the legal form of an entity using the field ‘Entity.LegalForm.EntityLegalFormCode’. \n",
    "Public Limited Companies in Great Britain are assigned EntityLegalFormCode ‘B6ES’. \n",
    "Please identifiy all Public Limitied Companies (PLCs) in Great Britain."
   ]
  },
  {
   "cell_type": "markdown",
   "metadata": {},
   "source": [
    "**Creating a dataset of only the public limited companies in Great Britain which has a Entity Legal Form Code of \"B6ES\" and Entity Legal Jurisdiction name of \"GB\".**"
   ]
  },
  {
   "cell_type": "code",
   "execution_count": 101,
   "metadata": {},
   "outputs": [],
   "source": [
    "df_plc = df2.loc[df2[\"Entity.LegalForm.EntityLegalFormCode\"]== \"B6ES\"] # , df2[\"Entity.LegalJurisdiction\"] == \"GB\""
   ]
  },
  {
   "cell_type": "code",
   "execution_count": 90,
   "metadata": {},
   "outputs": [
    {
     "data": {
      "text/html": [
       "<div>\n",
       "<style scoped>\n",
       "    .dataframe tbody tr th:only-of-type {\n",
       "        vertical-align: middle;\n",
       "    }\n",
       "\n",
       "    .dataframe tbody tr th {\n",
       "        vertical-align: top;\n",
       "    }\n",
       "\n",
       "    .dataframe thead th {\n",
       "        text-align: right;\n",
       "    }\n",
       "</style>\n",
       "<table border=\"1\" class=\"dataframe\">\n",
       "  <thead>\n",
       "    <tr style=\"text-align: right;\">\n",
       "      <th></th>\n",
       "      <th>LEI</th>\n",
       "      <th>Entity.LegalName</th>\n",
       "      <th>Entity.LegalJurisdiction</th>\n",
       "      <th>Entity.LegalForm.EntityLegalFormCode</th>\n",
       "      <th>Entity.EntityStatus</th>\n",
       "      <th>Entity.RegistrationAuthority.RegistrationAuthorityEntityID</th>\n",
       "      <th>Entity.EntityCategory</th>\n",
       "      <th>Registration.RegistrationStatus</th>\n",
       "      <th>Registration.LastUpdateDate</th>\n",
       "    </tr>\n",
       "  </thead>\n",
       "  <tbody>\n",
       "    <tr>\n",
       "      <th>3740</th>\n",
       "      <td>0TMBS544NMO7GLCE7H90</td>\n",
       "      <td>ABRDN PLC</td>\n",
       "      <td>GB</td>\n",
       "      <td>B6ES</td>\n",
       "      <td>ACTIVE</td>\n",
       "      <td>SC286832</td>\n",
       "      <td>GENERAL</td>\n",
       "      <td>ISSUED</td>\n",
       "      <td>2022-03-28T14:21:02.157Z</td>\n",
       "    </tr>\n",
       "    <tr>\n",
       "      <th>4389</th>\n",
       "      <td>2138001123F8QFPOZ919</td>\n",
       "      <td>TANGENT COMMUNICATIONS PLC</td>\n",
       "      <td>GB</td>\n",
       "      <td>B6ES</td>\n",
       "      <td>ACTIVE</td>\n",
       "      <td>03967805</td>\n",
       "      <td>GENERAL</td>\n",
       "      <td>LAPSED</td>\n",
       "      <td>2019-01-15T13:19:01.703Z</td>\n",
       "    </tr>\n",
       "    <tr>\n",
       "      <th>4429</th>\n",
       "      <td>21380011BEY3JSQ3AU68</td>\n",
       "      <td>PARSLEY BOX GROUP PLC</td>\n",
       "      <td>GB</td>\n",
       "      <td>B6ES</td>\n",
       "      <td>ACTIVE</td>\n",
       "      <td>SC685656</td>\n",
       "      <td>GENERAL</td>\n",
       "      <td>ISSUED</td>\n",
       "      <td>2022-03-22T04:13:11.243Z</td>\n",
       "    </tr>\n",
       "    <tr>\n",
       "      <th>4441</th>\n",
       "      <td>21380011EU95E93AQN91</td>\n",
       "      <td>SULNOX GROUP PLC</td>\n",
       "      <td>GB</td>\n",
       "      <td>B6ES</td>\n",
       "      <td>ACTIVE</td>\n",
       "      <td>08449586</td>\n",
       "      <td>GENERAL</td>\n",
       "      <td>ISSUED</td>\n",
       "      <td>2022-03-22T04:13:43.710Z</td>\n",
       "    </tr>\n",
       "    <tr>\n",
       "      <th>4468</th>\n",
       "      <td>21380011L2Y2O7QAFQ89</td>\n",
       "      <td>NORTHERN &amp; SHELL PLC</td>\n",
       "      <td>GB</td>\n",
       "      <td>B6ES</td>\n",
       "      <td>ACTIVE</td>\n",
       "      <td>04086466</td>\n",
       "      <td>GENERAL</td>\n",
       "      <td>ISSUED</td>\n",
       "      <td>2022-04-25T08:03:08.680Z</td>\n",
       "    </tr>\n",
       "  </tbody>\n",
       "</table>\n",
       "</div>"
      ],
      "text/plain": [
       "                       LEI            Entity.LegalName  \\\n",
       "3740  0TMBS544NMO7GLCE7H90                   ABRDN PLC   \n",
       "4389  2138001123F8QFPOZ919  TANGENT COMMUNICATIONS PLC   \n",
       "4429  21380011BEY3JSQ3AU68       PARSLEY BOX GROUP PLC   \n",
       "4441  21380011EU95E93AQN91            SULNOX GROUP PLC   \n",
       "4468  21380011L2Y2O7QAFQ89        NORTHERN & SHELL PLC   \n",
       "\n",
       "     Entity.LegalJurisdiction Entity.LegalForm.EntityLegalFormCode  \\\n",
       "3740                       GB                                 B6ES   \n",
       "4389                       GB                                 B6ES   \n",
       "4429                       GB                                 B6ES   \n",
       "4441                       GB                                 B6ES   \n",
       "4468                       GB                                 B6ES   \n",
       "\n",
       "     Entity.EntityStatus  \\\n",
       "3740              ACTIVE   \n",
       "4389              ACTIVE   \n",
       "4429              ACTIVE   \n",
       "4441              ACTIVE   \n",
       "4468              ACTIVE   \n",
       "\n",
       "     Entity.RegistrationAuthority.RegistrationAuthorityEntityID  \\\n",
       "3740                                           SC286832           \n",
       "4389                                           03967805           \n",
       "4429                                           SC685656           \n",
       "4441                                           08449586           \n",
       "4468                                           04086466           \n",
       "\n",
       "     Entity.EntityCategory Registration.RegistrationStatus  \\\n",
       "3740               GENERAL                          ISSUED   \n",
       "4389               GENERAL                          LAPSED   \n",
       "4429               GENERAL                          ISSUED   \n",
       "4441               GENERAL                          ISSUED   \n",
       "4468               GENERAL                          ISSUED   \n",
       "\n",
       "     Registration.LastUpdateDate  \n",
       "3740    2022-03-28T14:21:02.157Z  \n",
       "4389    2019-01-15T13:19:01.703Z  \n",
       "4429    2022-03-22T04:13:11.243Z  \n",
       "4441    2022-03-22T04:13:43.710Z  \n",
       "4468    2022-04-25T08:03:08.680Z  "
      ]
     },
     "execution_count": 90,
     "metadata": {},
     "output_type": "execute_result"
    }
   ],
   "source": [
    "df_plc.head()"
   ]
  },
  {
   "cell_type": "markdown",
   "metadata": {},
   "source": [
    "**Checking the number of public limited companies**"
   ]
  },
  {
   "cell_type": "code",
   "execution_count": 91,
   "metadata": {},
   "outputs": [
    {
     "name": "stdout",
     "output_type": "stream",
     "text": [
      "4146\n"
     ]
    }
   ],
   "source": [
    "rows_count = len(df_plc.index)\n",
    "print(rows_count)"
   ]
  },
  {
   "cell_type": "markdown",
   "metadata": {},
   "source": [
    "**The row count indicates the number of rows which are present in this dataframe and it says that there are 4146 public limited companies are there in Great Britain.**"
   ]
  },
  {
   "cell_type": "markdown",
   "metadata": {},
   "source": [
    "**The description of the dataframe is as follows.**"
   ]
  },
  {
   "cell_type": "code",
   "execution_count": 92,
   "metadata": {},
   "outputs": [
    {
     "data": {
      "text/html": [
       "<div>\n",
       "<style scoped>\n",
       "    .dataframe tbody tr th:only-of-type {\n",
       "        vertical-align: middle;\n",
       "    }\n",
       "\n",
       "    .dataframe tbody tr th {\n",
       "        vertical-align: top;\n",
       "    }\n",
       "\n",
       "    .dataframe thead th {\n",
       "        text-align: right;\n",
       "    }\n",
       "</style>\n",
       "<table border=\"1\" class=\"dataframe\">\n",
       "  <thead>\n",
       "    <tr style=\"text-align: right;\">\n",
       "      <th></th>\n",
       "      <th>LEI</th>\n",
       "      <th>Entity.LegalName</th>\n",
       "      <th>Entity.LegalJurisdiction</th>\n",
       "      <th>Entity.LegalForm.EntityLegalFormCode</th>\n",
       "      <th>Entity.EntityStatus</th>\n",
       "      <th>Entity.RegistrationAuthority.RegistrationAuthorityEntityID</th>\n",
       "      <th>Entity.EntityCategory</th>\n",
       "      <th>Registration.RegistrationStatus</th>\n",
       "      <th>Registration.LastUpdateDate</th>\n",
       "    </tr>\n",
       "  </thead>\n",
       "  <tbody>\n",
       "    <tr>\n",
       "      <th>unique</th>\n",
       "      <td>4146</td>\n",
       "      <td>4143</td>\n",
       "      <td>2</td>\n",
       "      <td>1</td>\n",
       "      <td>2</td>\n",
       "      <td>4133</td>\n",
       "      <td>3</td>\n",
       "      <td>5</td>\n",
       "      <td>3237</td>\n",
       "    </tr>\n",
       "    <tr>\n",
       "      <th>count</th>\n",
       "      <td>4146</td>\n",
       "      <td>4146</td>\n",
       "      <td>4146</td>\n",
       "      <td>4146</td>\n",
       "      <td>4136</td>\n",
       "      <td>4140</td>\n",
       "      <td>4146</td>\n",
       "      <td>4146</td>\n",
       "      <td>4146</td>\n",
       "    </tr>\n",
       "    <tr>\n",
       "      <th>top</th>\n",
       "      <td>0TMBS544NMO7GLCE7H90</td>\n",
       "      <td>Bristol Water PLC</td>\n",
       "      <td>GB</td>\n",
       "      <td>B6ES</td>\n",
       "      <td>ACTIVE</td>\n",
       "      <td>05379931</td>\n",
       "      <td>GENERAL</td>\n",
       "      <td>ISSUED</td>\n",
       "      <td>2022-02-23T15:28:32+00:00</td>\n",
       "    </tr>\n",
       "    <tr>\n",
       "      <th>freq</th>\n",
       "      <td>1</td>\n",
       "      <td>2</td>\n",
       "      <td>4145</td>\n",
       "      <td>4146</td>\n",
       "      <td>3913</td>\n",
       "      <td>2</td>\n",
       "      <td>4100</td>\n",
       "      <td>2854</td>\n",
       "      <td>144</td>\n",
       "    </tr>\n",
       "  </tbody>\n",
       "</table>\n",
       "</div>"
      ],
      "text/plain": [
       "                         LEI   Entity.LegalName Entity.LegalJurisdiction  \\\n",
       "unique                  4146               4143                        2   \n",
       "count                   4146               4146                     4146   \n",
       "top     0TMBS544NMO7GLCE7H90  Bristol Water PLC                       GB   \n",
       "freq                       1                  2                     4145   \n",
       "\n",
       "       Entity.LegalForm.EntityLegalFormCode Entity.EntityStatus  \\\n",
       "unique                                    1                   2   \n",
       "count                                  4146                4136   \n",
       "top                                    B6ES              ACTIVE   \n",
       "freq                                   4146                3913   \n",
       "\n",
       "       Entity.RegistrationAuthority.RegistrationAuthorityEntityID  \\\n",
       "unique                                               4133           \n",
       "count                                                4140           \n",
       "top                                              05379931           \n",
       "freq                                                    2           \n",
       "\n",
       "       Entity.EntityCategory Registration.RegistrationStatus  \\\n",
       "unique                     3                               5   \n",
       "count                   4146                            4146   \n",
       "top                  GENERAL                          ISSUED   \n",
       "freq                    4100                            2854   \n",
       "\n",
       "       Registration.LastUpdateDate  \n",
       "unique                        3237  \n",
       "count                         4146  \n",
       "top      2022-02-23T15:28:32+00:00  \n",
       "freq                           144  "
      ]
     },
     "execution_count": 92,
     "metadata": {},
     "output_type": "execute_result"
    }
   ],
   "source": [
    "df_plc.describe(include=[object]).head()"
   ]
  },
  {
   "cell_type": "code",
   "execution_count": 104,
   "metadata": {},
   "outputs": [
    {
     "data": {
      "text/plain": [
       "ISSUED              2854\n",
       "LAPSED              1058\n",
       "RETIRED              223\n",
       "DUPLICATE             10\n",
       "PENDING_ARCHIVAL       1\n",
       "Name: Registration.RegistrationStatus, dtype: int64"
      ]
     },
     "execution_count": 104,
     "metadata": {},
     "output_type": "execute_result"
    }
   ],
   "source": [
    "df_plc[\"Registration.RegistrationStatus\"].value_counts().head()"
   ]
  },
  {
   "cell_type": "code",
   "execution_count": 105,
   "metadata": {},
   "outputs": [
    {
     "data": {
      "text/plain": [
       "ACTIVE      3913\n",
       "INACTIVE     223\n",
       "Name: Entity.EntityStatus, dtype: int64"
      ]
     },
     "execution_count": 105,
     "metadata": {},
     "output_type": "execute_result"
    }
   ],
   "source": [
    "df_plc[\"Entity.EntityStatus\"].value_counts().head()"
   ]
  },
  {
   "cell_type": "markdown",
   "metadata": {},
   "source": [
    "**Checking the information of the dataframe below and it shows that there are 6 columns and the type of all the columns are object (categorical)**"
   ]
  },
  {
   "cell_type": "code",
   "execution_count": 109,
   "metadata": {},
   "outputs": [
    {
     "name": "stdout",
     "output_type": "stream",
     "text": [
      "<class 'dask.dataframe.core.DataFrame'>\n",
      "Columns: 9 entries, LEI to Registration.LastUpdateDate\n",
      "dtypes: object(9)"
     ]
    }
   ],
   "source": [
    "df_plc.info()"
   ]
  },
  {
   "cell_type": "markdown",
   "metadata": {},
   "source": [
    "**Checking for unique values**"
   ]
  },
  {
   "cell_type": "code",
   "execution_count": 96,
   "metadata": {},
   "outputs": [
    {
     "data": {
      "text/plain": [
       "LEI                                     4146\n",
       "Entity.LegalName                        4143\n",
       "Entity.LegalJurisdiction                   2\n",
       "Entity.LegalForm.EntityLegalFormCode       1\n",
       "Entity.EntityStatus                        2\n",
       "dtype: int64"
      ]
     },
     "execution_count": 96,
     "metadata": {},
     "output_type": "execute_result"
    }
   ],
   "source": [
    "df_plc.nunique().head()"
   ]
  },
  {
   "cell_type": "markdown",
   "metadata": {},
   "source": [
    "**The nunique() method returns the number of unique values for each column. Here you can see 4146 LEI, 4143 Entity legal names, 2 Legal Jurisdiction, 1 Entity legal form code, and 2 entity status are there. 4143 Legal name indicates that there are 3 legal names are similar with other legal names.**"
   ]
  },
  {
   "cell_type": "code",
   "execution_count": 110,
   "metadata": {},
   "outputs": [
    {
     "data": {
      "text/plain": [
       "LEI                                      0\n",
       "Entity.LegalName                         0\n",
       "Entity.LegalJurisdiction                 0\n",
       "Entity.LegalForm.EntityLegalFormCode     0\n",
       "Entity.EntityStatus                     10\n",
       "dtype: int64"
      ]
     },
     "execution_count": 110,
     "metadata": {},
     "output_type": "execute_result"
    }
   ],
   "source": [
    "# Checking for null values\n",
    "df_plc.isnull().sum().head()"
   ]
  },
  {
   "cell_type": "markdown",
   "metadata": {},
   "source": [
    "**Here it shows that there are 10 values of Entity status are null values**"
   ]
  },
  {
   "cell_type": "markdown",
   "metadata": {},
   "source": [
    "#### Checking the null values using a heatmap visualization"
   ]
  },
  {
   "cell_type": "code",
   "execution_count": 112,
   "metadata": {},
   "outputs": [
    {
     "data": {
      "text/plain": [
       "<AxesSubplot:>"
      ]
     },
     "execution_count": 112,
     "metadata": {},
     "output_type": "execute_result"
    },
    {
     "data": {
      "image/png": "[encoded data removed]",
      "text/plain": [
       "<Figure size 432x288 with 1 Axes>"
      ]
     },
     "metadata": {
      "needs_background": "light"
     },
     "output_type": "display_data"
    }
   ],
   "source": [
    "sns.heatmap(df_plc.isnull(),cbar=False,cmap='viridis')"
   ]
  },
  {
   "cell_type": "markdown",
   "metadata": {},
   "source": [
    "The heatmap shows that there are no null values in this dataframe."
   ]
  },
  {
   "cell_type": "markdown",
   "metadata": {},
   "source": [
    "### Answer to Question 1:\n",
    "\n",
    "**In the dataframe df_plc you can see all the Public limited companies in GB. \n",
    "There is a total number of 4146 of them in this dataset.**"
   ]
  },
  {
   "cell_type": "markdown",
   "metadata": {},
   "source": []
  },
  {
   "cell_type": "markdown",
   "metadata": {},
   "source": [
    "## Exercise 2: Visualize the EntityStatus and RegistrationStatus of the entities you identified in exercise 1"
   ]
  },
  {
   "cell_type": "markdown",
   "metadata": {},
   "source": [
    "Each LEI Record has an EntityStatus (Entity.EntityStatus) and a RegistrationStatus (Registration.RegistrationStatus). Based on your results from exercise 1, please \n",
    "\n",
    "visualize the EntityStatus and the RegistrationStatus for these LEI Records. \n",
    "\n",
    "Can you describe how the fields EntityStatus and RegistrationStatus are related to each other?"
   ]
  },
  {
   "cell_type": "markdown",
   "metadata": {},
   "source": [
    "##### Checking for the value counts in the column \"Registration status\""
   ]
  },
  {
   "cell_type": "code",
   "execution_count": 113,
   "metadata": {},
   "outputs": [
    {
     "data": {
      "text/plain": [
       "ISSUED              2854\n",
       "LAPSED              1058\n",
       "RETIRED              223\n",
       "DUPLICATE             10\n",
       "PENDING_ARCHIVAL       1\n",
       "Name: Registration.RegistrationStatus, dtype: int64"
      ]
     },
     "execution_count": 113,
     "metadata": {},
     "output_type": "execute_result"
    }
   ],
   "source": [
    "df_plc[\"Registration.RegistrationStatus\"].value_counts().head()"
   ]
  },
  {
   "cell_type": "markdown",
   "metadata": {},
   "source": [
    "**Here it shows that there are 5 major categorical values are there in the column \"Registration.RegistrationStatus\". \n",
    "2854 ISSUED, 1058 LAPSED, 223 RETIRED, 10 DUPLICATE and 1 PENDING_ARCHIVAL are there.**"
   ]
  },
  {
   "cell_type": "code",
   "execution_count": 114,
   "metadata": {},
   "outputs": [
    {
     "data": {
      "text/plain": [
       "ACTIVE      3913\n",
       "INACTIVE     223\n",
       "Name: Entity.EntityStatus, dtype: int64"
      ]
     },
     "execution_count": 114,
     "metadata": {},
     "output_type": "execute_result"
    }
   ],
   "source": [
    "# Checking value counts of the column \"Entity Status\"\n",
    "df_plc[\"Entity.EntityStatus\"].value_counts().head()"
   ]
  },
  {
   "cell_type": "code",
   "execution_count": 115,
   "metadata": {},
   "outputs": [],
   "source": [
    "#Renaming the column names\n",
    "df4 = df_plc.rename(columns={\"Entity.EntityStatus\": \"EntityStatus\", \"Entity.LegalJurisdiction\":\"LegalJurisdiction\", \n",
    "\"Registration.RegistrationStatus\": \"RegistrationStatus\"})"
   ]
  },
  {
   "cell_type": "code",
   "execution_count": 116,
   "metadata": {},
   "outputs": [
    {
     "data": {
      "text/plain": [
       "Index(['LEI', 'Entity.LegalName', 'LegalJurisdiction',\n",
       "       'Entity.LegalForm.EntityLegalFormCode', 'EntityStatus',\n",
       "       'Entity.RegistrationAuthority.RegistrationAuthorityEntityID',\n",
       "       'Entity.EntityCategory', 'RegistrationStatus',\n",
       "       'Registration.LastUpdateDate'],\n",
       "      dtype='object')"
      ]
     },
     "execution_count": 116,
     "metadata": {},
     "output_type": "execute_result"
    }
   ],
   "source": [
    "df4.columns"
   ]
  },
  {
   "cell_type": "code",
   "execution_count": 24,
   "metadata": {},
   "outputs": [],
   "source": [
    "cleanup = {\"RegistrationStatus\":{\"ISSUED\": 1, \"LAPSED\": 0, \"RETIRED\": 2, \"DUPLICATE\": 3, \"PENDING_ARCHIVAL\": 4}, \"EntityStatus\":{\"ACTIVE\":1, \"INACTIVE\":0}}\n",
    "df4 = df4.replace(cleanup)"
   ]
  },
  {
   "cell_type": "code",
   "execution_count": 25,
   "metadata": {},
   "outputs": [
    {
     "data": {
      "text/html": [
       "<div>\n",
       "<style scoped>\n",
       "    .dataframe tbody tr th:only-of-type {\n",
       "        vertical-align: middle;\n",
       "    }\n",
       "\n",
       "    .dataframe tbody tr th {\n",
       "        vertical-align: top;\n",
       "    }\n",
       "\n",
       "    .dataframe thead th {\n",
       "        text-align: right;\n",
       "    }\n",
       "</style>\n",
       "<table border=\"1\" class=\"dataframe\">\n",
       "  <thead>\n",
       "    <tr style=\"text-align: right;\">\n",
       "      <th></th>\n",
       "      <th>LEI</th>\n",
       "      <th>Entity.LegalName</th>\n",
       "      <th>LegalJurisdiction</th>\n",
       "      <th>Entity.LegalForm.EntityLegalFormCode</th>\n",
       "      <th>EntityStatus</th>\n",
       "      <th>Entity.RegistrationAuthority.RegistrationAuthorityEntityID</th>\n",
       "      <th>Entity.EntityCategory</th>\n",
       "      <th>RegistrationStatus</th>\n",
       "      <th>Registration.LastUpdateDate</th>\n",
       "    </tr>\n",
       "  </thead>\n",
       "  <tbody>\n",
       "    <tr>\n",
       "      <th>3740</th>\n",
       "      <td>0TMBS544NMO7GLCE7H90</td>\n",
       "      <td>ABRDN PLC</td>\n",
       "      <td>GB</td>\n",
       "      <td>B6ES</td>\n",
       "      <td>1.0</td>\n",
       "      <td>SC286832</td>\n",
       "      <td>GENERAL</td>\n",
       "      <td>1</td>\n",
       "      <td>2022-03-28T14:21:02.157Z</td>\n",
       "    </tr>\n",
       "    <tr>\n",
       "      <th>4389</th>\n",
       "      <td>2138001123F8QFPOZ919</td>\n",
       "      <td>TANGENT COMMUNICATIONS PLC</td>\n",
       "      <td>GB</td>\n",
       "      <td>B6ES</td>\n",
       "      <td>1.0</td>\n",
       "      <td>03967805</td>\n",
       "      <td>GENERAL</td>\n",
       "      <td>0</td>\n",
       "      <td>2019-01-15T13:19:01.703Z</td>\n",
       "    </tr>\n",
       "  </tbody>\n",
       "</table>\n",
       "</div>"
      ],
      "text/plain": [
       "                       LEI            Entity.LegalName LegalJurisdiction  \\\n",
       "3740  0TMBS544NMO7GLCE7H90                   ABRDN PLC                GB   \n",
       "4389  2138001123F8QFPOZ919  TANGENT COMMUNICATIONS PLC                GB   \n",
       "\n",
       "     Entity.LegalForm.EntityLegalFormCode  EntityStatus  \\\n",
       "3740                                 B6ES           1.0   \n",
       "4389                                 B6ES           1.0   \n",
       "\n",
       "     Entity.RegistrationAuthority.RegistrationAuthorityEntityID  \\\n",
       "3740                                           SC286832           \n",
       "4389                                           03967805           \n",
       "\n",
       "     Entity.EntityCategory  RegistrationStatus Registration.LastUpdateDate  \n",
       "3740               GENERAL                   1    2022-03-28T14:21:02.157Z  \n",
       "4389               GENERAL                   0    2019-01-15T13:19:01.703Z  "
      ]
     },
     "execution_count": 25,
     "metadata": {},
     "output_type": "execute_result"
    }
   ],
   "source": [
    "df4.head(2)"
   ]
  },
  {
   "cell_type": "code",
   "execution_count": 26,
   "metadata": {},
   "outputs": [
    {
     "data": {
      "text/html": [
       "<div>\n",
       "<style scoped>\n",
       "    .dataframe tbody tr th:only-of-type {\n",
       "        vertical-align: middle;\n",
       "    }\n",
       "\n",
       "    .dataframe tbody tr th {\n",
       "        vertical-align: top;\n",
       "    }\n",
       "\n",
       "    .dataframe thead th {\n",
       "        text-align: right;\n",
       "    }\n",
       "</style>\n",
       "<table border=\"1\" class=\"dataframe\">\n",
       "  <thead>\n",
       "    <tr style=\"text-align: right;\">\n",
       "      <th></th>\n",
       "      <th>LEI</th>\n",
       "      <th>Entity.LegalName</th>\n",
       "      <th>LegalJurisdiction</th>\n",
       "      <th>Entity.LegalForm.EntityLegalFormCode</th>\n",
       "      <th>EntityStatus</th>\n",
       "      <th>Entity.RegistrationAuthority.RegistrationAuthorityEntityID</th>\n",
       "      <th>Entity.EntityCategory</th>\n",
       "      <th>RegistrationStatus</th>\n",
       "      <th>Registration.LastUpdateDate</th>\n",
       "    </tr>\n",
       "  </thead>\n",
       "  <tbody>\n",
       "    <tr>\n",
       "      <th>93950</th>\n",
       "      <td>ZIMCVQHUFZ8GVHENP290</td>\n",
       "      <td>BUPA FINANCE PLC.</td>\n",
       "      <td>GB</td>\n",
       "      <td>B6ES</td>\n",
       "      <td>1</td>\n",
       "      <td>02779134</td>\n",
       "      <td>GENERAL</td>\n",
       "      <td>1</td>\n",
       "      <td>2022-01-11T21:31:00.000Z</td>\n",
       "    </tr>\n",
       "    <tr>\n",
       "      <th>93992</th>\n",
       "      <td>ZLECI7ED2QMWFGYCXZ59</td>\n",
       "      <td>ITV PLC</td>\n",
       "      <td>GB</td>\n",
       "      <td>B6ES</td>\n",
       "      <td>1</td>\n",
       "      <td>04967001</td>\n",
       "      <td>GENERAL</td>\n",
       "      <td>1</td>\n",
       "      <td>2021-07-22T15:31:00.000Z</td>\n",
       "    </tr>\n",
       "  </tbody>\n",
       "</table>\n",
       "</div>"
      ],
      "text/plain": [
       "                        LEI   Entity.LegalName LegalJurisdiction  \\\n",
       "93950  ZIMCVQHUFZ8GVHENP290  BUPA FINANCE PLC.                GB   \n",
       "93992  ZLECI7ED2QMWFGYCXZ59            ITV PLC                GB   \n",
       "\n",
       "      Entity.LegalForm.EntityLegalFormCode  EntityStatus  \\\n",
       "93950                                 B6ES             1   \n",
       "93992                                 B6ES             1   \n",
       "\n",
       "      Entity.RegistrationAuthority.RegistrationAuthorityEntityID  \\\n",
       "93950                                           02779134           \n",
       "93992                                           04967001           \n",
       "\n",
       "      Entity.EntityCategory  RegistrationStatus Registration.LastUpdateDate  \n",
       "93950               GENERAL                   1    2022-01-11T21:31:00.000Z  \n",
       "93992               GENERAL                   1    2021-07-22T15:31:00.000Z  "
      ]
     },
     "execution_count": 26,
     "metadata": {},
     "output_type": "execute_result"
    }
   ],
   "source": [
    "df4.tail(2)"
   ]
  },
  {
   "cell_type": "code",
   "execution_count": 117,
   "metadata": {},
   "outputs": [
    {
     "data": {
      "text/plain": [
       "ISSUED              2854\n",
       "LAPSED              1058\n",
       "RETIRED              223\n",
       "DUPLICATE             10\n",
       "PENDING_ARCHIVAL       1\n",
       "Name: RegistrationStatus, dtype: int64"
      ]
     },
     "execution_count": 117,
     "metadata": {},
     "output_type": "execute_result"
    }
   ],
   "source": [
    "df4[\"RegistrationStatus\"].value_counts().head()"
   ]
  },
  {
   "cell_type": "markdown",
   "metadata": {},
   "source": [
    "#### Visualization of EntityStatus and the RegistrationStatus for these LEI Records"
   ]
  },
  {
   "cell_type": "code",
   "execution_count": 30,
   "metadata": {},
   "outputs": [
    {
     "data": {
      "text/plain": [
       "<AxesSubplot:xlabel='EntityStatus', ylabel='Count'>"
      ]
     },
     "execution_count": 30,
     "metadata": {},
     "output_type": "execute_result"
    },
    {
     "data": {
      "image/png": "[encoded data removed]",
      "text/plain": [
       "<Figure size 720x360 with 1 Axes>"
      ]
     },
     "metadata": {
      "needs_background": "light"
     },
     "output_type": "display_data"
    }
   ],
   "source": [
    "plt.figure(figsize=(10,5))\n",
    "sns.histplot(x=\"EntityStatus\", data=df4)\n"
   ]
  },
  {
   "cell_type": "code",
   "execution_count": 60,
   "metadata": {},
   "outputs": [
    {
     "data": {
      "text/plain": [
       "<AxesSubplot:xlabel='RegistrationStatus', ylabel='Count'>"
      ]
     },
     "execution_count": 60,
     "metadata": {},
     "output_type": "execute_result"
    },
    {
     "data": {
      "image/png": "[encoded data removed]",
      "text/plain": [
       "<Figure size 720x360 with 1 Axes>"
      ]
     },
     "metadata": {
      "needs_background": "light"
     },
     "output_type": "display_data"
    }
   ],
   "source": [
    "plt.figure(figsize=(10,5))\n",
    "sns.histplot(x=\"RegistrationStatus\", data=df4)"
   ]
  },
  {
   "cell_type": "code",
   "execution_count": 37,
   "metadata": {},
   "outputs": [],
   "source": [
    "# plt.figure(figsize=(10,5))\n",
    "# sns.countplot(x=\"LegalJurisdiction\", hue=\"EntityStatus\", data=df4)"
   ]
  },
  {
   "cell_type": "code",
   "execution_count": null,
   "metadata": {},
   "outputs": [],
   "source": [
    "# plt.figure(figsize=(10,10))\n",
    "# sns.heatmap(df3.corr(),cbar=True,annot=True,cmap='Blues')\n",
    "# plt.title('Correlation heat map', fontweight='bold')"
   ]
  },
  {
   "cell_type": "markdown",
   "metadata": {},
   "source": [
    "### Exercise 3: Find the ultimate parents of all entities from exercise 1"
   ]
  },
  {
   "cell_type": "markdown",
   "metadata": {},
   "source": [
    "In exercise 1 and 2 we used the so-called LEI data (LEI-CDF v3.1 files). For exercise 3 we will additionally use the so-called relationship data (RR-CDF v2.1 files).\n",
    "\n",
    "To identify an ultimate parent, you need to only consider those relationship records with\n",
    "Relationship.RelationshipType ‘IS_ULTIMATELY_CONSOLIDATED_BY’. \n",
    "\n",
    "The Relationship.StartNode.NodeID indicates the child of a relationship. \n",
    "For this exercise we are only interested in those StartNodes that you have identified in exercise 1. \n",
    "\n",
    "The Relationship.EndNode.NodeID denotes the LEI code of the parent entity of the respective\n",
    "StartNode.\n",
    "\n",
    "How many ultimate parents did you find?\n",
    "How would you explain “missing” ultimate parents?"
   ]
  },
  {
   "cell_type": "code",
   "execution_count": 67,
   "metadata": {},
   "outputs": [],
   "source": [
    "df_LEI2 = dd.read_csv('data/20220614-0000-gleif-goldencopy-rr-golden-copy.csv', dtype=str)"
   ]
  },
  {
   "cell_type": "code",
   "execution_count": 68,
   "metadata": {},
   "outputs": [
    {
     "data": {
      "text/html": [
       "<div>\n",
       "<style scoped>\n",
       "    .dataframe tbody tr th:only-of-type {\n",
       "        vertical-align: middle;\n",
       "    }\n",
       "\n",
       "    .dataframe tbody tr th {\n",
       "        vertical-align: top;\n",
       "    }\n",
       "\n",
       "    .dataframe thead th {\n",
       "        text-align: right;\n",
       "    }\n",
       "</style>\n",
       "<table border=\"1\" class=\"dataframe\">\n",
       "  <thead>\n",
       "    <tr style=\"text-align: right;\">\n",
       "      <th></th>\n",
       "      <th>Relationship.StartNode.NodeID</th>\n",
       "      <th>Relationship.StartNode.NodeIDType</th>\n",
       "      <th>Relationship.EndNode.NodeID</th>\n",
       "      <th>Relationship.EndNode.NodeIDType</th>\n",
       "      <th>Relationship.RelationshipType</th>\n",
       "      <th>Relationship.RelationshipStatus</th>\n",
       "      <th>Relationship.Period.1.startDate</th>\n",
       "      <th>Relationship.Period.1.endDate</th>\n",
       "      <th>Relationship.Period.1.periodType</th>\n",
       "      <th>Relationship.Period.2.startDate</th>\n",
       "      <th>...</th>\n",
       "      <th>Relationship.Quantifiers.5.QuantifierAmount</th>\n",
       "      <th>Relationship.Quantifiers.5.QuantifierUnits</th>\n",
       "      <th>Registration.InitialRegistrationDate</th>\n",
       "      <th>Registration.LastUpdateDate</th>\n",
       "      <th>Registration.RegistrationStatus</th>\n",
       "      <th>Registration.NextRenewalDate</th>\n",
       "      <th>Registration.ManagingLOU</th>\n",
       "      <th>Registration.ValidationSources</th>\n",
       "      <th>Registration.ValidationDocuments</th>\n",
       "      <th>Registration.ValidationReference</th>\n",
       "    </tr>\n",
       "  </thead>\n",
       "  <tbody>\n",
       "    <tr>\n",
       "      <th>0</th>\n",
       "      <td>010CMKZ3VON21WF2ZD45</td>\n",
       "      <td>LEI</td>\n",
       "      <td>ZZG38T0MDR3QY1ETUA76</td>\n",
       "      <td>LEI</td>\n",
       "      <td>IS_DIRECTLY_CONSOLIDATED_BY</td>\n",
       "      <td>ACTIVE</td>\n",
       "      <td>2018-01-01T00:00:00.000Z</td>\n",
       "      <td>2018-12-31T00:00:00.000Z</td>\n",
       "      <td>ACCOUNTING_PERIOD</td>\n",
       "      <td>2018-02-06T00:00:00.000Z</td>\n",
       "      <td>...</td>\n",
       "      <td>NaN</td>\n",
       "      <td>NaN</td>\n",
       "      <td>2012-10-01T11:09:00.000Z</td>\n",
       "      <td>2022-06-04T01:00:00.000Z</td>\n",
       "      <td>LAPSED</td>\n",
       "      <td>2022-06-03T13:04:00.000Z</td>\n",
       "      <td>EVK05KS7XY1DEII3R011</td>\n",
       "      <td>ENTITY_SUPPLIED_ONLY</td>\n",
       "      <td>SUPPORTING_DOCUMENTS</td>\n",
       "      <td>NaN</td>\n",
       "    </tr>\n",
       "    <tr>\n",
       "      <th>1</th>\n",
       "      <td>010CMKZ3VON21WF2ZD45</td>\n",
       "      <td>LEI</td>\n",
       "      <td>3C7474T6CDKPR9K6YT90</td>\n",
       "      <td>LEI</td>\n",
       "      <td>IS_ULTIMATELY_CONSOLIDATED_BY</td>\n",
       "      <td>ACTIVE</td>\n",
       "      <td>2020-01-01T00:00:00.000Z</td>\n",
       "      <td>2020-12-31T00:00:00.000Z</td>\n",
       "      <td>ACCOUNTING_PERIOD</td>\n",
       "      <td>2018-02-06T00:00:00.000Z</td>\n",
       "      <td>...</td>\n",
       "      <td>NaN</td>\n",
       "      <td>NaN</td>\n",
       "      <td>2012-10-01T11:09:00.000Z</td>\n",
       "      <td>2022-06-04T01:00:00.000Z</td>\n",
       "      <td>LAPSED</td>\n",
       "      <td>2022-06-03T13:04:00.000Z</td>\n",
       "      <td>EVK05KS7XY1DEII3R011</td>\n",
       "      <td>FULLY_CORROBORATED</td>\n",
       "      <td>REGULATORY_FILING</td>\n",
       "      <td>https://www.sec.gov/ix?doc=/Archives/edgar/dat...</td>\n",
       "    </tr>\n",
       "    <tr>\n",
       "      <th>2</th>\n",
       "      <td>010PWNH4K3BLIC3I7R03</td>\n",
       "      <td>LEI</td>\n",
       "      <td>549300COKYB5EGSU1838</td>\n",
       "      <td>LEI</td>\n",
       "      <td>IS_DIRECTLY_CONSOLIDATED_BY</td>\n",
       "      <td>ACTIVE</td>\n",
       "      <td>2020-01-01T00:00:00.000Z</td>\n",
       "      <td>2020-12-31T00:00:00.000Z</td>\n",
       "      <td>ACCOUNTING_PERIOD</td>\n",
       "      <td>2017-12-06T00:00:00.000Z</td>\n",
       "      <td>...</td>\n",
       "      <td>NaN</td>\n",
       "      <td>NaN</td>\n",
       "      <td>2012-11-26T15:01:00.000Z</td>\n",
       "      <td>2022-01-13T21:31:00.000Z</td>\n",
       "      <td>PUBLISHED</td>\n",
       "      <td>2022-10-21T15:08:00.000Z</td>\n",
       "      <td>EVK05KS7XY1DEII3R011</td>\n",
       "      <td>ENTITY_SUPPLIED_ONLY</td>\n",
       "      <td>SUPPORTING_DOCUMENTS</td>\n",
       "      <td>NaN</td>\n",
       "    </tr>\n",
       "    <tr>\n",
       "      <th>3</th>\n",
       "      <td>010PWNH4K3BLIC3I7R03</td>\n",
       "      <td>LEI</td>\n",
       "      <td>549300B2Q47IR0CR5B54</td>\n",
       "      <td>LEI</td>\n",
       "      <td>IS_ULTIMATELY_CONSOLIDATED_BY</td>\n",
       "      <td>ACTIVE</td>\n",
       "      <td>2020-01-01T00:00:00.000Z</td>\n",
       "      <td>2020-12-31T00:00:00.000Z</td>\n",
       "      <td>ACCOUNTING_PERIOD</td>\n",
       "      <td>2017-12-06T00:00:00.000Z</td>\n",
       "      <td>...</td>\n",
       "      <td>NaN</td>\n",
       "      <td>NaN</td>\n",
       "      <td>2012-11-26T15:01:00.000Z</td>\n",
       "      <td>2022-01-13T21:31:00.000Z</td>\n",
       "      <td>PUBLISHED</td>\n",
       "      <td>2022-10-21T15:08:00.000Z</td>\n",
       "      <td>EVK05KS7XY1DEII3R011</td>\n",
       "      <td>ENTITY_SUPPLIED_ONLY</td>\n",
       "      <td>SUPPORTING_DOCUMENTS</td>\n",
       "      <td>NaN</td>\n",
       "    </tr>\n",
       "    <tr>\n",
       "      <th>4</th>\n",
       "      <td>01J4SO3XTWZF4PP38209</td>\n",
       "      <td>LEI</td>\n",
       "      <td>5493000HPQ4D2RZ79739</td>\n",
       "      <td>LEI</td>\n",
       "      <td>IS_DIRECTLY_CONSOLIDATED_BY</td>\n",
       "      <td>ACTIVE</td>\n",
       "      <td>2012-06-06T00:00:00.000Z</td>\n",
       "      <td>NaN</td>\n",
       "      <td>RELATIONSHIP_PERIOD</td>\n",
       "      <td>2017-01-02T00:00:00.000Z</td>\n",
       "      <td>...</td>\n",
       "      <td>NaN</td>\n",
       "      <td>NaN</td>\n",
       "      <td>2017-11-30T16:35:59.285Z</td>\n",
       "      <td>2021-11-17T17:00:01.074Z</td>\n",
       "      <td>PUBLISHED</td>\n",
       "      <td>2022-12-01T17:12:02.687Z</td>\n",
       "      <td>5493001KJTIIGC8Y1R12</td>\n",
       "      <td>ENTITY_SUPPLIED_ONLY</td>\n",
       "      <td>OTHER_OFFICIAL_DOCUMENTS</td>\n",
       "      <td>NaN</td>\n",
       "    </tr>\n",
       "  </tbody>\n",
       "</table>\n",
       "<p>5 rows × 54 columns</p>\n",
       "</div>"
      ],
      "text/plain": [
       "  Relationship.StartNode.NodeID Relationship.StartNode.NodeIDType  \\\n",
       "0          010CMKZ3VON21WF2ZD45                               LEI   \n",
       "1          010CMKZ3VON21WF2ZD45                               LEI   \n",
       "2          010PWNH4K3BLIC3I7R03                               LEI   \n",
       "3          010PWNH4K3BLIC3I7R03                               LEI   \n",
       "4          01J4SO3XTWZF4PP38209                               LEI   \n",
       "\n",
       "  Relationship.EndNode.NodeID Relationship.EndNode.NodeIDType  \\\n",
       "0        ZZG38T0MDR3QY1ETUA76                             LEI   \n",
       "1        3C7474T6CDKPR9K6YT90                             LEI   \n",
       "2        549300COKYB5EGSU1838                             LEI   \n",
       "3        549300B2Q47IR0CR5B54                             LEI   \n",
       "4        5493000HPQ4D2RZ79739                             LEI   \n",
       "\n",
       "   Relationship.RelationshipType Relationship.RelationshipStatus  \\\n",
       "0    IS_DIRECTLY_CONSOLIDATED_BY                          ACTIVE   \n",
       "1  IS_ULTIMATELY_CONSOLIDATED_BY                          ACTIVE   \n",
       "2    IS_DIRECTLY_CONSOLIDATED_BY                          ACTIVE   \n",
       "3  IS_ULTIMATELY_CONSOLIDATED_BY                          ACTIVE   \n",
       "4    IS_DIRECTLY_CONSOLIDATED_BY                          ACTIVE   \n",
       "\n",
       "  Relationship.Period.1.startDate Relationship.Period.1.endDate  \\\n",
       "0        2018-01-01T00:00:00.000Z      2018-12-31T00:00:00.000Z   \n",
       "1        2020-01-01T00:00:00.000Z      2020-12-31T00:00:00.000Z   \n",
       "2        2020-01-01T00:00:00.000Z      2020-12-31T00:00:00.000Z   \n",
       "3        2020-01-01T00:00:00.000Z      2020-12-31T00:00:00.000Z   \n",
       "4        2012-06-06T00:00:00.000Z                           NaN   \n",
       "\n",
       "  Relationship.Period.1.periodType Relationship.Period.2.startDate  ...  \\\n",
       "0                ACCOUNTING_PERIOD        2018-02-06T00:00:00.000Z  ...   \n",
       "1                ACCOUNTING_PERIOD        2018-02-06T00:00:00.000Z  ...   \n",
       "2                ACCOUNTING_PERIOD        2017-12-06T00:00:00.000Z  ...   \n",
       "3                ACCOUNTING_PERIOD        2017-12-06T00:00:00.000Z  ...   \n",
       "4              RELATIONSHIP_PERIOD        2017-01-02T00:00:00.000Z  ...   \n",
       "\n",
       "  Relationship.Quantifiers.5.QuantifierAmount  \\\n",
       "0                                         NaN   \n",
       "1                                         NaN   \n",
       "2                                         NaN   \n",
       "3                                         NaN   \n",
       "4                                         NaN   \n",
       "\n",
       "  Relationship.Quantifiers.5.QuantifierUnits  \\\n",
       "0                                        NaN   \n",
       "1                                        NaN   \n",
       "2                                        NaN   \n",
       "3                                        NaN   \n",
       "4                                        NaN   \n",
       "\n",
       "  Registration.InitialRegistrationDate Registration.LastUpdateDate  \\\n",
       "0             2012-10-01T11:09:00.000Z    2022-06-04T01:00:00.000Z   \n",
       "1             2012-10-01T11:09:00.000Z    2022-06-04T01:00:00.000Z   \n",
       "2             2012-11-26T15:01:00.000Z    2022-01-13T21:31:00.000Z   \n",
       "3             2012-11-26T15:01:00.000Z    2022-01-13T21:31:00.000Z   \n",
       "4             2017-11-30T16:35:59.285Z    2021-11-17T17:00:01.074Z   \n",
       "\n",
       "  Registration.RegistrationStatus Registration.NextRenewalDate  \\\n",
       "0                          LAPSED     2022-06-03T13:04:00.000Z   \n",
       "1                          LAPSED     2022-06-03T13:04:00.000Z   \n",
       "2                       PUBLISHED     2022-10-21T15:08:00.000Z   \n",
       "3                       PUBLISHED     2022-10-21T15:08:00.000Z   \n",
       "4                       PUBLISHED     2022-12-01T17:12:02.687Z   \n",
       "\n",
       "  Registration.ManagingLOU Registration.ValidationSources  \\\n",
       "0     EVK05KS7XY1DEII3R011           ENTITY_SUPPLIED_ONLY   \n",
       "1     EVK05KS7XY1DEII3R011             FULLY_CORROBORATED   \n",
       "2     EVK05KS7XY1DEII3R011           ENTITY_SUPPLIED_ONLY   \n",
       "3     EVK05KS7XY1DEII3R011           ENTITY_SUPPLIED_ONLY   \n",
       "4     5493001KJTIIGC8Y1R12           ENTITY_SUPPLIED_ONLY   \n",
       "\n",
       "  Registration.ValidationDocuments  \\\n",
       "0             SUPPORTING_DOCUMENTS   \n",
       "1                REGULATORY_FILING   \n",
       "2             SUPPORTING_DOCUMENTS   \n",
       "3             SUPPORTING_DOCUMENTS   \n",
       "4         OTHER_OFFICIAL_DOCUMENTS   \n",
       "\n",
       "                    Registration.ValidationReference  \n",
       "0                                                NaN  \n",
       "1  https://www.sec.gov/ix?doc=/Archives/edgar/dat...  \n",
       "2                                                NaN  \n",
       "3                                                NaN  \n",
       "4                                                NaN  \n",
       "\n",
       "[5 rows x 54 columns]"
      ]
     },
     "execution_count": 68,
     "metadata": {},
     "output_type": "execute_result"
    }
   ],
   "source": [
    "df_LEI2.head()"
   ]
  },
  {
   "cell_type": "code",
   "execution_count": 69,
   "metadata": {},
   "outputs": [
    {
     "data": {
      "text/plain": [
       "Index(['Relationship.StartNode.NodeID', 'Relationship.StartNode.NodeIDType',\n",
       "       'Relationship.EndNode.NodeID', 'Relationship.EndNode.NodeIDType',\n",
       "       'Relationship.RelationshipType', 'Relationship.RelationshipStatus',\n",
       "       'Relationship.Period.1.startDate', 'Relationship.Period.1.endDate',\n",
       "       'Relationship.Period.1.periodType', 'Relationship.Period.2.startDate',\n",
       "       'Relationship.Period.2.endDate', 'Relationship.Period.2.periodType',\n",
       "       'Relationship.Period.3.startDate', 'Relationship.Period.3.endDate',\n",
       "       'Relationship.Period.3.periodType', 'Relationship.Period.4.startDate',\n",
       "       'Relationship.Period.4.endDate', 'Relationship.Period.4.periodType',\n",
       "       'Relationship.Period.5.startDate', 'Relationship.Period.5.endDate',\n",
       "       'Relationship.Period.5.periodType',\n",
       "       'Relationship.Qualifiers.1.QualifierDimension',\n",
       "       'Relationship.Qualifiers.1.QualifierCategory',\n",
       "       'Relationship.Qualifiers.2.QualifierDimension',\n",
       "       'Relationship.Qualifiers.2.QualifierCategory',\n",
       "       'Relationship.Qualifiers.3.QualifierDimension',\n",
       "       'Relationship.Qualifiers.3.QualifierCategory',\n",
       "       'Relationship.Qualifiers.4.QualifierDimension',\n",
       "       'Relationship.Qualifiers.4.QualifierCategory',\n",
       "       'Relationship.Qualifiers.5.QualifierDimension',\n",
       "       'Relationship.Qualifiers.5.QualifierCategory',\n",
       "       'Relationship.Quantifiers.1.MeasurementMethod',\n",
       "       'Relationship.Quantifiers.1.QuantifierAmount',\n",
       "       'Relationship.Quantifiers.1.QuantifierUnits',\n",
       "       'Relationship.Quantifiers.2.MeasurementMethod',\n",
       "       'Relationship.Quantifiers.2.QuantifierAmount',\n",
       "       'Relationship.Quantifiers.2.QuantifierUnits',\n",
       "       'Relationship.Quantifiers.3.MeasurementMethod',\n",
       "       'Relationship.Quantifiers.3.QuantifierAmount',\n",
       "       'Relationship.Quantifiers.3.QuantifierUnits',\n",
       "       'Relationship.Quantifiers.4.MeasurementMethod',\n",
       "       'Relationship.Quantifiers.4.QuantifierAmount',\n",
       "       'Relationship.Quantifiers.4.QuantifierUnits',\n",
       "       'Relationship.Quantifiers.5.MeasurementMethod',\n",
       "       'Relationship.Quantifiers.5.QuantifierAmount',\n",
       "       'Relationship.Quantifiers.5.QuantifierUnits',\n",
       "       'Registration.InitialRegistrationDate', 'Registration.LastUpdateDate',\n",
       "       'Registration.RegistrationStatus', 'Registration.NextRenewalDate',\n",
       "       'Registration.ManagingLOU', 'Registration.ValidationSources',\n",
       "       'Registration.ValidationDocuments', 'Registration.ValidationReference'],\n",
       "      dtype='object')"
      ]
     },
     "execution_count": 69,
     "metadata": {},
     "output_type": "execute_result"
    }
   ],
   "source": [
    "df_LEI2.columns"
   ]
  },
  {
   "cell_type": "markdown",
   "metadata": {},
   "source": [
    "consider those relationship records with\n",
    "Relationship.RelationshipType ‘IS_ULTIMATELY_CONSOLIDATED_BY’."
   ]
  },
  {
   "cell_type": "code",
   "execution_count": 82,
   "metadata": {},
   "outputs": [],
   "source": [
    "df_LEI3 = df_LEI2.loc[df_LEI2[\"Relationship.RelationshipType\"]== \"IS_ULTIMATELY_CONSOLIDATED_BY\"]"
   ]
  },
  {
   "cell_type": "code",
   "execution_count": 83,
   "metadata": {},
   "outputs": [
    {
     "data": {
      "text/html": [
       "<div>\n",
       "<style scoped>\n",
       "    .dataframe tbody tr th:only-of-type {\n",
       "        vertical-align: middle;\n",
       "    }\n",
       "\n",
       "    .dataframe tbody tr th {\n",
       "        vertical-align: top;\n",
       "    }\n",
       "\n",
       "    .dataframe thead th {\n",
       "        text-align: right;\n",
       "    }\n",
       "</style>\n",
       "<table border=\"1\" class=\"dataframe\">\n",
       "  <thead>\n",
       "    <tr style=\"text-align: right;\">\n",
       "      <th></th>\n",
       "      <th>Relationship.StartNode.NodeID</th>\n",
       "      <th>Relationship.StartNode.NodeIDType</th>\n",
       "      <th>Relationship.EndNode.NodeID</th>\n",
       "      <th>Relationship.EndNode.NodeIDType</th>\n",
       "      <th>Relationship.RelationshipType</th>\n",
       "      <th>Relationship.RelationshipStatus</th>\n",
       "      <th>Relationship.Period.1.startDate</th>\n",
       "      <th>Relationship.Period.1.endDate</th>\n",
       "      <th>Relationship.Period.1.periodType</th>\n",
       "      <th>Relationship.Period.2.startDate</th>\n",
       "      <th>...</th>\n",
       "      <th>Relationship.Quantifiers.5.QuantifierAmount</th>\n",
       "      <th>Relationship.Quantifiers.5.QuantifierUnits</th>\n",
       "      <th>Registration.InitialRegistrationDate</th>\n",
       "      <th>Registration.LastUpdateDate</th>\n",
       "      <th>Registration.RegistrationStatus</th>\n",
       "      <th>Registration.NextRenewalDate</th>\n",
       "      <th>Registration.ManagingLOU</th>\n",
       "      <th>Registration.ValidationSources</th>\n",
       "      <th>Registration.ValidationDocuments</th>\n",
       "      <th>Registration.ValidationReference</th>\n",
       "    </tr>\n",
       "  </thead>\n",
       "  <tbody>\n",
       "    <tr>\n",
       "      <th>1</th>\n",
       "      <td>010CMKZ3VON21WF2ZD45</td>\n",
       "      <td>LEI</td>\n",
       "      <td>3C7474T6CDKPR9K6YT90</td>\n",
       "      <td>LEI</td>\n",
       "      <td>IS_ULTIMATELY_CONSOLIDATED_BY</td>\n",
       "      <td>ACTIVE</td>\n",
       "      <td>2020-01-01T00:00:00.000Z</td>\n",
       "      <td>2020-12-31T00:00:00.000Z</td>\n",
       "      <td>ACCOUNTING_PERIOD</td>\n",
       "      <td>2018-02-06T00:00:00.000Z</td>\n",
       "      <td>...</td>\n",
       "      <td>NaN</td>\n",
       "      <td>NaN</td>\n",
       "      <td>2012-10-01T11:09:00.000Z</td>\n",
       "      <td>2022-06-04T01:00:00.000Z</td>\n",
       "      <td>LAPSED</td>\n",
       "      <td>2022-06-03T13:04:00.000Z</td>\n",
       "      <td>EVK05KS7XY1DEII3R011</td>\n",
       "      <td>FULLY_CORROBORATED</td>\n",
       "      <td>REGULATORY_FILING</td>\n",
       "      <td>https://www.sec.gov/ix?doc=/Archives/edgar/dat...</td>\n",
       "    </tr>\n",
       "    <tr>\n",
       "      <th>3</th>\n",
       "      <td>010PWNH4K3BLIC3I7R03</td>\n",
       "      <td>LEI</td>\n",
       "      <td>549300B2Q47IR0CR5B54</td>\n",
       "      <td>LEI</td>\n",
       "      <td>IS_ULTIMATELY_CONSOLIDATED_BY</td>\n",
       "      <td>ACTIVE</td>\n",
       "      <td>2020-01-01T00:00:00.000Z</td>\n",
       "      <td>2020-12-31T00:00:00.000Z</td>\n",
       "      <td>ACCOUNTING_PERIOD</td>\n",
       "      <td>2017-12-06T00:00:00.000Z</td>\n",
       "      <td>...</td>\n",
       "      <td>NaN</td>\n",
       "      <td>NaN</td>\n",
       "      <td>2012-11-26T15:01:00.000Z</td>\n",
       "      <td>2022-01-13T21:31:00.000Z</td>\n",
       "      <td>PUBLISHED</td>\n",
       "      <td>2022-10-21T15:08:00.000Z</td>\n",
       "      <td>EVK05KS7XY1DEII3R011</td>\n",
       "      <td>ENTITY_SUPPLIED_ONLY</td>\n",
       "      <td>SUPPORTING_DOCUMENTS</td>\n",
       "      <td>NaN</td>\n",
       "    </tr>\n",
       "    <tr>\n",
       "      <th>5</th>\n",
       "      <td>01J4SO3XTWZF4PP38209</td>\n",
       "      <td>LEI</td>\n",
       "      <td>5493000HPQ4D2RZ79739</td>\n",
       "      <td>LEI</td>\n",
       "      <td>IS_ULTIMATELY_CONSOLIDATED_BY</td>\n",
       "      <td>ACTIVE</td>\n",
       "      <td>2012-06-06T00:00:00.000Z</td>\n",
       "      <td>NaN</td>\n",
       "      <td>RELATIONSHIP_PERIOD</td>\n",
       "      <td>2017-01-02T00:00:00.000Z</td>\n",
       "      <td>...</td>\n",
       "      <td>NaN</td>\n",
       "      <td>NaN</td>\n",
       "      <td>2017-11-30T16:35:59.285Z</td>\n",
       "      <td>2021-11-17T17:00:01.074Z</td>\n",
       "      <td>PUBLISHED</td>\n",
       "      <td>2022-12-01T17:12:02.687Z</td>\n",
       "      <td>5493001KJTIIGC8Y1R12</td>\n",
       "      <td>ENTITY_SUPPLIED_ONLY</td>\n",
       "      <td>OTHER_OFFICIAL_DOCUMENTS</td>\n",
       "      <td>NaN</td>\n",
       "    </tr>\n",
       "    <tr>\n",
       "      <th>7</th>\n",
       "      <td>01TRDHWDCL69YP41S025</td>\n",
       "      <td>LEI</td>\n",
       "      <td>LORM1GNEU1DKEW527V90</td>\n",
       "      <td>LEI</td>\n",
       "      <td>IS_ULTIMATELY_CONSOLIDATED_BY</td>\n",
       "      <td>ACTIVE</td>\n",
       "      <td>2020-01-01T00:00:00.000Z</td>\n",
       "      <td>2020-12-31T00:00:00.000Z</td>\n",
       "      <td>ACCOUNTING_PERIOD</td>\n",
       "      <td>2018-04-17T00:00:00.000Z</td>\n",
       "      <td>...</td>\n",
       "      <td>NaN</td>\n",
       "      <td>NaN</td>\n",
       "      <td>2012-10-10T19:47:00.000Z</td>\n",
       "      <td>2022-04-05T23:32:00.000Z</td>\n",
       "      <td>PUBLISHED</td>\n",
       "      <td>2023-04-05T18:10:00.000Z</td>\n",
       "      <td>EVK05KS7XY1DEII3R011</td>\n",
       "      <td>FULLY_CORROBORATED</td>\n",
       "      <td>ACCOUNTS_FILING</td>\n",
       "      <td>https://www.sec.gov/Archives/edgar/data/898174...</td>\n",
       "    </tr>\n",
       "    <tr>\n",
       "      <th>8</th>\n",
       "      <td>020BQJXAXCZNLKIN7326</td>\n",
       "      <td>LEI</td>\n",
       "      <td>549300PFEWKNHRG25N08</td>\n",
       "      <td>LEI</td>\n",
       "      <td>IS_ULTIMATELY_CONSOLIDATED_BY</td>\n",
       "      <td>ACTIVE</td>\n",
       "      <td>2021-01-01T00:00:00.000Z</td>\n",
       "      <td>2021-12-31T00:00:00.000Z</td>\n",
       "      <td>ACCOUNTING_PERIOD</td>\n",
       "      <td>2018-03-01T00:00:00.000Z</td>\n",
       "      <td>...</td>\n",
       "      <td>NaN</td>\n",
       "      <td>NaN</td>\n",
       "      <td>2012-11-28T14:55:00.000Z</td>\n",
       "      <td>2022-03-15T21:32:00.000Z</td>\n",
       "      <td>PUBLISHED</td>\n",
       "      <td>2022-12-20T22:25:00.000Z</td>\n",
       "      <td>EVK05KS7XY1DEII3R011</td>\n",
       "      <td>PARTIALLY_CORROBORATED</td>\n",
       "      <td>SUPPORTING_DOCUMENTS</td>\n",
       "      <td>NaN</td>\n",
       "    </tr>\n",
       "  </tbody>\n",
       "</table>\n",
       "<p>5 rows × 54 columns</p>\n",
       "</div>"
      ],
      "text/plain": [
       "  Relationship.StartNode.NodeID Relationship.StartNode.NodeIDType  \\\n",
       "1          010CMKZ3VON21WF2ZD45                               LEI   \n",
       "3          010PWNH4K3BLIC3I7R03                               LEI   \n",
       "5          01J4SO3XTWZF4PP38209                               LEI   \n",
       "7          01TRDHWDCL69YP41S025                               LEI   \n",
       "8          020BQJXAXCZNLKIN7326                               LEI   \n",
       "\n",
       "  Relationship.EndNode.NodeID Relationship.EndNode.NodeIDType  \\\n",
       "1        3C7474T6CDKPR9K6YT90                             LEI   \n",
       "3        549300B2Q47IR0CR5B54                             LEI   \n",
       "5        5493000HPQ4D2RZ79739                             LEI   \n",
       "7        LORM1GNEU1DKEW527V90                             LEI   \n",
       "8        549300PFEWKNHRG25N08                             LEI   \n",
       "\n",
       "   Relationship.RelationshipType Relationship.RelationshipStatus  \\\n",
       "1  IS_ULTIMATELY_CONSOLIDATED_BY                          ACTIVE   \n",
       "3  IS_ULTIMATELY_CONSOLIDATED_BY                          ACTIVE   \n",
       "5  IS_ULTIMATELY_CONSOLIDATED_BY                          ACTIVE   \n",
       "7  IS_ULTIMATELY_CONSOLIDATED_BY                          ACTIVE   \n",
       "8  IS_ULTIMATELY_CONSOLIDATED_BY                          ACTIVE   \n",
       "\n",
       "  Relationship.Period.1.startDate Relationship.Period.1.endDate  \\\n",
       "1        2020-01-01T00:00:00.000Z      2020-12-31T00:00:00.000Z   \n",
       "3        2020-01-01T00:00:00.000Z      2020-12-31T00:00:00.000Z   \n",
       "5        2012-06-06T00:00:00.000Z                           NaN   \n",
       "7        2020-01-01T00:00:00.000Z      2020-12-31T00:00:00.000Z   \n",
       "8        2021-01-01T00:00:00.000Z      2021-12-31T00:00:00.000Z   \n",
       "\n",
       "  Relationship.Period.1.periodType Relationship.Period.2.startDate  ...  \\\n",
       "1                ACCOUNTING_PERIOD        2018-02-06T00:00:00.000Z  ...   \n",
       "3                ACCOUNTING_PERIOD        2017-12-06T00:00:00.000Z  ...   \n",
       "5              RELATIONSHIP_PERIOD        2017-01-02T00:00:00.000Z  ...   \n",
       "7                ACCOUNTING_PERIOD        2018-04-17T00:00:00.000Z  ...   \n",
       "8                ACCOUNTING_PERIOD        2018-03-01T00:00:00.000Z  ...   \n",
       "\n",
       "  Relationship.Quantifiers.5.QuantifierAmount  \\\n",
       "1                                         NaN   \n",
       "3                                         NaN   \n",
       "5                                         NaN   \n",
       "7                                         NaN   \n",
       "8                                         NaN   \n",
       "\n",
       "  Relationship.Quantifiers.5.QuantifierUnits  \\\n",
       "1                                        NaN   \n",
       "3                                        NaN   \n",
       "5                                        NaN   \n",
       "7                                        NaN   \n",
       "8                                        NaN   \n",
       "\n",
       "  Registration.InitialRegistrationDate Registration.LastUpdateDate  \\\n",
       "1             2012-10-01T11:09:00.000Z    2022-06-04T01:00:00.000Z   \n",
       "3             2012-11-26T15:01:00.000Z    2022-01-13T21:31:00.000Z   \n",
       "5             2017-11-30T16:35:59.285Z    2021-11-17T17:00:01.074Z   \n",
       "7             2012-10-10T19:47:00.000Z    2022-04-05T23:32:00.000Z   \n",
       "8             2012-11-28T14:55:00.000Z    2022-03-15T21:32:00.000Z   \n",
       "\n",
       "  Registration.RegistrationStatus Registration.NextRenewalDate  \\\n",
       "1                          LAPSED     2022-06-03T13:04:00.000Z   \n",
       "3                       PUBLISHED     2022-10-21T15:08:00.000Z   \n",
       "5                       PUBLISHED     2022-12-01T17:12:02.687Z   \n",
       "7                       PUBLISHED     2023-04-05T18:10:00.000Z   \n",
       "8                       PUBLISHED     2022-12-20T22:25:00.000Z   \n",
       "\n",
       "  Registration.ManagingLOU Registration.ValidationSources  \\\n",
       "1     EVK05KS7XY1DEII3R011             FULLY_CORROBORATED   \n",
       "3     EVK05KS7XY1DEII3R011           ENTITY_SUPPLIED_ONLY   \n",
       "5     5493001KJTIIGC8Y1R12           ENTITY_SUPPLIED_ONLY   \n",
       "7     EVK05KS7XY1DEII3R011             FULLY_CORROBORATED   \n",
       "8     EVK05KS7XY1DEII3R011         PARTIALLY_CORROBORATED   \n",
       "\n",
       "  Registration.ValidationDocuments  \\\n",
       "1                REGULATORY_FILING   \n",
       "3             SUPPORTING_DOCUMENTS   \n",
       "5         OTHER_OFFICIAL_DOCUMENTS   \n",
       "7                  ACCOUNTS_FILING   \n",
       "8             SUPPORTING_DOCUMENTS   \n",
       "\n",
       "                    Registration.ValidationReference  \n",
       "1  https://www.sec.gov/ix?doc=/Archives/edgar/dat...  \n",
       "3                                                NaN  \n",
       "5                                                NaN  \n",
       "7  https://www.sec.gov/Archives/edgar/data/898174...  \n",
       "8                                                NaN  \n",
       "\n",
       "[5 rows x 54 columns]"
      ]
     },
     "execution_count": 83,
     "metadata": {},
     "output_type": "execute_result"
    }
   ],
   "source": [
    "df_LEI3.head()"
   ]
  },
  {
   "cell_type": "markdown",
   "metadata": {},
   "source": [
    "making a dataframe with only required columns"
   ]
  },
  {
   "cell_type": "code",
   "execution_count": 84,
   "metadata": {},
   "outputs": [],
   "source": [
    "df_LEI4 = df_LEI3[[\"Relationship.StartNode.NodeID\", \"Relationship.StartNode.NodeIDType\", \"Relationship.EndNode.NodeID\",\n",
    "\"Registration.RegistrationStatus\", \"Registration.LastUpdateDate\"]]"
   ]
  },
  {
   "cell_type": "code",
   "execution_count": 85,
   "metadata": {},
   "outputs": [
    {
     "data": {
      "text/html": [
       "<div>\n",
       "<style scoped>\n",
       "    .dataframe tbody tr th:only-of-type {\n",
       "        vertical-align: middle;\n",
       "    }\n",
       "\n",
       "    .dataframe tbody tr th {\n",
       "        vertical-align: top;\n",
       "    }\n",
       "\n",
       "    .dataframe thead th {\n",
       "        text-align: right;\n",
       "    }\n",
       "</style>\n",
       "<table border=\"1\" class=\"dataframe\">\n",
       "  <thead>\n",
       "    <tr style=\"text-align: right;\">\n",
       "      <th></th>\n",
       "      <th>Relationship.StartNode.NodeID</th>\n",
       "      <th>Relationship.StartNode.NodeIDType</th>\n",
       "      <th>Relationship.EndNode.NodeID</th>\n",
       "      <th>Registration.RegistrationStatus</th>\n",
       "      <th>Registration.LastUpdateDate</th>\n",
       "    </tr>\n",
       "  </thead>\n",
       "  <tbody>\n",
       "    <tr>\n",
       "      <th>1</th>\n",
       "      <td>010CMKZ3VON21WF2ZD45</td>\n",
       "      <td>LEI</td>\n",
       "      <td>3C7474T6CDKPR9K6YT90</td>\n",
       "      <td>LAPSED</td>\n",
       "      <td>2022-06-04T01:00:00.000Z</td>\n",
       "    </tr>\n",
       "    <tr>\n",
       "      <th>3</th>\n",
       "      <td>010PWNH4K3BLIC3I7R03</td>\n",
       "      <td>LEI</td>\n",
       "      <td>549300B2Q47IR0CR5B54</td>\n",
       "      <td>PUBLISHED</td>\n",
       "      <td>2022-01-13T21:31:00.000Z</td>\n",
       "    </tr>\n",
       "    <tr>\n",
       "      <th>5</th>\n",
       "      <td>01J4SO3XTWZF4PP38209</td>\n",
       "      <td>LEI</td>\n",
       "      <td>5493000HPQ4D2RZ79739</td>\n",
       "      <td>PUBLISHED</td>\n",
       "      <td>2021-11-17T17:00:01.074Z</td>\n",
       "    </tr>\n",
       "    <tr>\n",
       "      <th>7</th>\n",
       "      <td>01TRDHWDCL69YP41S025</td>\n",
       "      <td>LEI</td>\n",
       "      <td>LORM1GNEU1DKEW527V90</td>\n",
       "      <td>PUBLISHED</td>\n",
       "      <td>2022-04-05T23:32:00.000Z</td>\n",
       "    </tr>\n",
       "    <tr>\n",
       "      <th>8</th>\n",
       "      <td>020BQJXAXCZNLKIN7326</td>\n",
       "      <td>LEI</td>\n",
       "      <td>549300PFEWKNHRG25N08</td>\n",
       "      <td>PUBLISHED</td>\n",
       "      <td>2022-03-15T21:32:00.000Z</td>\n",
       "    </tr>\n",
       "  </tbody>\n",
       "</table>\n",
       "</div>"
      ],
      "text/plain": [
       "  Relationship.StartNode.NodeID Relationship.StartNode.NodeIDType  \\\n",
       "1          010CMKZ3VON21WF2ZD45                               LEI   \n",
       "3          010PWNH4K3BLIC3I7R03                               LEI   \n",
       "5          01J4SO3XTWZF4PP38209                               LEI   \n",
       "7          01TRDHWDCL69YP41S025                               LEI   \n",
       "8          020BQJXAXCZNLKIN7326                               LEI   \n",
       "\n",
       "  Relationship.EndNode.NodeID Registration.RegistrationStatus  \\\n",
       "1        3C7474T6CDKPR9K6YT90                          LAPSED   \n",
       "3        549300B2Q47IR0CR5B54                       PUBLISHED   \n",
       "5        5493000HPQ4D2RZ79739                       PUBLISHED   \n",
       "7        LORM1GNEU1DKEW527V90                       PUBLISHED   \n",
       "8        549300PFEWKNHRG25N08                       PUBLISHED   \n",
       "\n",
       "  Registration.LastUpdateDate  \n",
       "1    2022-06-04T01:00:00.000Z  \n",
       "3    2022-01-13T21:31:00.000Z  \n",
       "5    2021-11-17T17:00:01.074Z  \n",
       "7    2022-04-05T23:32:00.000Z  \n",
       "8    2022-03-15T21:32:00.000Z  "
      ]
     },
     "execution_count": 85,
     "metadata": {},
     "output_type": "execute_result"
    }
   ],
   "source": [
    "df_LEI4.head()"
   ]
  },
  {
   "cell_type": "code",
   "execution_count": 87,
   "metadata": {},
   "outputs": [],
   "source": [
    "# df_combi = pd.merge(df3,df_LEI4, how='left',left_on=['LEI'],right_on='Relationship.StartNode.NodeID')"
   ]
  },
  {
   "cell_type": "markdown",
   "metadata": {},
   "source": [
    "### Exercise 4: Identify potential duplicates in Great Britain"
   ]
  },
  {
   "cell_type": "markdown",
   "metadata": {},
   "source": [
    "\n",
    "In the Global LEI System each legal entity shall only receive one unique LEI code. In some rare\n",
    "cases it can happen that two LEI codes are assigned to the same legal entity. If such a duplicate\n",
    "has been identified, one of the duplicate records will receive the RegistrationStatus DUPLICATE.\n",
    "These duplicate records remain in the Global LEI repository, as the LEI is a life long identifier and\n",
    "can never be reused. Please identify potential duplicates in the legal jurisdiction of Great Britain (GB) based on similar\n",
    "legal names (Entity.LegalName).\n",
    "\n",
    "What is your approach to compare the different legal names?\n",
    "\n",
    "Which other elements of the reference data besides the legal name could be used to identify\n",
    "duplicate records?"
   ]
  },
  {
   "cell_type": "code",
   "execution_count": 66,
   "metadata": {},
   "outputs": [
    {
     "data": {
      "text/html": [
       "<div>\n",
       "<style scoped>\n",
       "    .dataframe tbody tr th:only-of-type {\n",
       "        vertical-align: middle;\n",
       "    }\n",
       "\n",
       "    .dataframe tbody tr th {\n",
       "        vertical-align: top;\n",
       "    }\n",
       "\n",
       "    .dataframe thead th {\n",
       "        text-align: right;\n",
       "    }\n",
       "</style>\n",
       "<table border=\"1\" class=\"dataframe\">\n",
       "  <thead>\n",
       "    <tr style=\"text-align: right;\">\n",
       "      <th></th>\n",
       "      <th>LEI</th>\n",
       "      <th>Entity.LegalName</th>\n",
       "      <th>Entity.LegalJurisdiction</th>\n",
       "      <th>Entity.LegalForm.EntityLegalFormCode</th>\n",
       "      <th>Entity.EntityStatus</th>\n",
       "      <th>Entity.RegistrationAuthority.RegistrationAuthorityEntityID</th>\n",
       "      <th>Entity.EntityCategory</th>\n",
       "      <th>Registration.RegistrationStatus</th>\n",
       "      <th>Registration.LastUpdateDate</th>\n",
       "    </tr>\n",
       "  </thead>\n",
       "  <tbody>\n",
       "    <tr>\n",
       "      <th>3740</th>\n",
       "      <td>0TMBS544NMO7GLCE7H90</td>\n",
       "      <td>ABRDN PLC</td>\n",
       "      <td>GB</td>\n",
       "      <td>B6ES</td>\n",
       "      <td>ACTIVE</td>\n",
       "      <td>SC286832</td>\n",
       "      <td>GENERAL</td>\n",
       "      <td>ISSUED</td>\n",
       "      <td>2022-03-28T14:21:02.157Z</td>\n",
       "    </tr>\n",
       "    <tr>\n",
       "      <th>4389</th>\n",
       "      <td>2138001123F8QFPOZ919</td>\n",
       "      <td>TANGENT COMMUNICATIONS PLC</td>\n",
       "      <td>GB</td>\n",
       "      <td>B6ES</td>\n",
       "      <td>ACTIVE</td>\n",
       "      <td>03967805</td>\n",
       "      <td>GENERAL</td>\n",
       "      <td>LAPSED</td>\n",
       "      <td>2019-01-15T13:19:01.703Z</td>\n",
       "    </tr>\n",
       "  </tbody>\n",
       "</table>\n",
       "</div>"
      ],
      "text/plain": [
       "                       LEI            Entity.LegalName  \\\n",
       "3740  0TMBS544NMO7GLCE7H90                   ABRDN PLC   \n",
       "4389  2138001123F8QFPOZ919  TANGENT COMMUNICATIONS PLC   \n",
       "\n",
       "     Entity.LegalJurisdiction Entity.LegalForm.EntityLegalFormCode  \\\n",
       "3740                       GB                                 B6ES   \n",
       "4389                       GB                                 B6ES   \n",
       "\n",
       "     Entity.EntityStatus  \\\n",
       "3740              ACTIVE   \n",
       "4389              ACTIVE   \n",
       "\n",
       "     Entity.RegistrationAuthority.RegistrationAuthorityEntityID  \\\n",
       "3740                                           SC286832           \n",
       "4389                                           03967805           \n",
       "\n",
       "     Entity.EntityCategory Registration.RegistrationStatus  \\\n",
       "3740               GENERAL                          ISSUED   \n",
       "4389               GENERAL                          LAPSED   \n",
       "\n",
       "     Registration.LastUpdateDate  \n",
       "3740    2022-03-28T14:21:02.157Z  \n",
       "4389    2019-01-15T13:19:01.703Z  "
      ]
     },
     "execution_count": 66,
     "metadata": {},
     "output_type": "execute_result"
    }
   ],
   "source": [
    "df3.head(2)"
   ]
  },
  {
   "cell_type": "markdown",
   "metadata": {},
   "source": [
    "#### Making the dataframe of LEI records of Great Britain"
   ]
  },
  {
   "cell_type": "code",
   "execution_count": 38,
   "metadata": {},
   "outputs": [],
   "source": [
    "df_GB_only = df2.loc[df2[\"Entity.LegalJurisdiction\"]== \"GB\"]"
   ]
  },
  {
   "cell_type": "code",
   "execution_count": 39,
   "metadata": {},
   "outputs": [
    {
     "data": {
      "text/html": [
       "<div>\n",
       "<style scoped>\n",
       "    .dataframe tbody tr th:only-of-type {\n",
       "        vertical-align: middle;\n",
       "    }\n",
       "\n",
       "    .dataframe tbody tr th {\n",
       "        vertical-align: top;\n",
       "    }\n",
       "\n",
       "    .dataframe thead th {\n",
       "        text-align: right;\n",
       "    }\n",
       "</style>\n",
       "<table border=\"1\" class=\"dataframe\">\n",
       "  <thead>\n",
       "    <tr style=\"text-align: right;\">\n",
       "      <th></th>\n",
       "      <th>LEI</th>\n",
       "      <th>Entity.LegalName</th>\n",
       "      <th>Entity.LegalJurisdiction</th>\n",
       "      <th>Entity.LegalForm.EntityLegalFormCode</th>\n",
       "      <th>Entity.EntityStatus</th>\n",
       "      <th>Entity.RegistrationAuthority.RegistrationAuthorityEntityID</th>\n",
       "      <th>Entity.EntityCategory</th>\n",
       "      <th>Registration.RegistrationStatus</th>\n",
       "      <th>Registration.LastUpdateDate</th>\n",
       "    </tr>\n",
       "  </thead>\n",
       "  <tbody>\n",
       "    <tr>\n",
       "      <th>457</th>\n",
       "      <td>03EINY24LQ6IXW124R72</td>\n",
       "      <td>The Barclays Bank UK Retirement Fund</td>\n",
       "      <td>GB</td>\n",
       "      <td>8888</td>\n",
       "      <td>ACTIVE</td>\n",
       "      <td>NaN</td>\n",
       "      <td>FUND</td>\n",
       "      <td>ISSUED</td>\n",
       "      <td>2021-09-08T15:31:00.000Z</td>\n",
       "    </tr>\n",
       "    <tr>\n",
       "      <th>492</th>\n",
       "      <td>05MQKGBWLLX7RPPDO189</td>\n",
       "      <td>The Marketing Store Worldwide (Europe) Limited</td>\n",
       "      <td>GB</td>\n",
       "      <td>8888</td>\n",
       "      <td>ACTIVE</td>\n",
       "      <td>03909510</td>\n",
       "      <td>GENERAL</td>\n",
       "      <td>LAPSED</td>\n",
       "      <td>2020-06-24T15:28:00.000Z</td>\n",
       "    </tr>\n",
       "    <tr>\n",
       "      <th>495</th>\n",
       "      <td>05QPO0N3ERB8K0CJBG58</td>\n",
       "      <td>Invitrogen Europe Limited</td>\n",
       "      <td>GB</td>\n",
       "      <td>8888</td>\n",
       "      <td>ACTIVE</td>\n",
       "      <td>SC084330</td>\n",
       "      <td>GENERAL</td>\n",
       "      <td>LAPSED</td>\n",
       "      <td>2020-06-24T15:31:00.000Z</td>\n",
       "    </tr>\n",
       "    <tr>\n",
       "      <th>507</th>\n",
       "      <td>0677F7L8DTFEBS5RWE15</td>\n",
       "      <td>CARRINGGATE LIMITED</td>\n",
       "      <td>GB</td>\n",
       "      <td>H0PO</td>\n",
       "      <td>INACTIVE</td>\n",
       "      <td>06345337</td>\n",
       "      <td>GENERAL</td>\n",
       "      <td>RETIRED</td>\n",
       "      <td>2019-09-16T14:32:00.000Z</td>\n",
       "    </tr>\n",
       "    <tr>\n",
       "      <th>636</th>\n",
       "      <td>097900BFDR0000022278</td>\n",
       "      <td>HB REAVIS CONSTRUCTION UK LTD</td>\n",
       "      <td>GB</td>\n",
       "      <td>H0PO</td>\n",
       "      <td>ACTIVE</td>\n",
       "      <td>08917100</td>\n",
       "      <td>GENERAL</td>\n",
       "      <td>LAPSED</td>\n",
       "      <td>2022-03-17T20:47:46+01:00</td>\n",
       "    </tr>\n",
       "  </tbody>\n",
       "</table>\n",
       "</div>"
      ],
      "text/plain": [
       "                      LEI                                Entity.LegalName  \\\n",
       "457  03EINY24LQ6IXW124R72            The Barclays Bank UK Retirement Fund   \n",
       "492  05MQKGBWLLX7RPPDO189  The Marketing Store Worldwide (Europe) Limited   \n",
       "495  05QPO0N3ERB8K0CJBG58                       Invitrogen Europe Limited   \n",
       "507  0677F7L8DTFEBS5RWE15                             CARRINGGATE LIMITED   \n",
       "636  097900BFDR0000022278                   HB REAVIS CONSTRUCTION UK LTD   \n",
       "\n",
       "    Entity.LegalJurisdiction Entity.LegalForm.EntityLegalFormCode  \\\n",
       "457                       GB                                 8888   \n",
       "492                       GB                                 8888   \n",
       "495                       GB                                 8888   \n",
       "507                       GB                                 H0PO   \n",
       "636                       GB                                 H0PO   \n",
       "\n",
       "    Entity.EntityStatus  \\\n",
       "457              ACTIVE   \n",
       "492              ACTIVE   \n",
       "495              ACTIVE   \n",
       "507            INACTIVE   \n",
       "636              ACTIVE   \n",
       "\n",
       "    Entity.RegistrationAuthority.RegistrationAuthorityEntityID  \\\n",
       "457                                                NaN           \n",
       "492                                           03909510           \n",
       "495                                           SC084330           \n",
       "507                                           06345337           \n",
       "636                                           08917100           \n",
       "\n",
       "    Entity.EntityCategory Registration.RegistrationStatus  \\\n",
       "457                  FUND                          ISSUED   \n",
       "492               GENERAL                          LAPSED   \n",
       "495               GENERAL                          LAPSED   \n",
       "507               GENERAL                         RETIRED   \n",
       "636               GENERAL                          LAPSED   \n",
       "\n",
       "    Registration.LastUpdateDate  \n",
       "457    2021-09-08T15:31:00.000Z  \n",
       "492    2020-06-24T15:28:00.000Z  \n",
       "495    2020-06-24T15:31:00.000Z  \n",
       "507    2019-09-16T14:32:00.000Z  \n",
       "636   2022-03-17T20:47:46+01:00  "
      ]
     },
     "execution_count": 39,
     "metadata": {},
     "output_type": "execute_result"
    }
   ],
   "source": [
    "df_GB_only.head()"
   ]
  },
  {
   "cell_type": "code",
   "execution_count": 77,
   "metadata": {},
   "outputs": [
    {
     "name": "stdout",
     "output_type": "stream",
     "text": [
      "174168\n"
     ]
    }
   ],
   "source": [
    "rows_count = len(df_GB_only.index)\n",
    "print(rows_count)"
   ]
  },
  {
   "cell_type": "markdown",
   "metadata": {},
   "source": [
    "There are total 174168 Legel entities from Great Britain are there which have registered in LEI system."
   ]
  },
  {
   "cell_type": "markdown",
   "metadata": {},
   "source": [
    "### Sorting the records based on Legal Entity Names"
   ]
  },
  {
   "cell_type": "code",
   "execution_count": 53,
   "metadata": {},
   "outputs": [],
   "source": [
    "df_GB_sorted = df_GB_only.sort_values(by=\"Entity.LegalName\")"
   ]
  },
  {
   "cell_type": "code",
   "execution_count": 54,
   "metadata": {},
   "outputs": [
    {
     "data": {
      "text/html": [
       "<div>\n",
       "<style scoped>\n",
       "    .dataframe tbody tr th:only-of-type {\n",
       "        vertical-align: middle;\n",
       "    }\n",
       "\n",
       "    .dataframe tbody tr th {\n",
       "        vertical-align: top;\n",
       "    }\n",
       "\n",
       "    .dataframe thead th {\n",
       "        text-align: right;\n",
       "    }\n",
       "</style>\n",
       "<table border=\"1\" class=\"dataframe\">\n",
       "  <thead>\n",
       "    <tr style=\"text-align: right;\">\n",
       "      <th></th>\n",
       "      <th>LEI</th>\n",
       "      <th>Entity.LegalName</th>\n",
       "      <th>Entity.LegalJurisdiction</th>\n",
       "      <th>Entity.LegalForm.EntityLegalFormCode</th>\n",
       "      <th>Entity.EntityStatus</th>\n",
       "      <th>Entity.RegistrationAuthority.RegistrationAuthorityEntityID</th>\n",
       "      <th>Entity.EntityCategory</th>\n",
       "      <th>Registration.RegistrationStatus</th>\n",
       "      <th>Registration.LastUpdateDate</th>\n",
       "    </tr>\n",
       "  </thead>\n",
       "  <tbody>\n",
       "    <tr>\n",
       "      <th>89880</th>\n",
       "      <td>213800W2GKNSVZLCE195</td>\n",
       "      <td>\"D\" SETTLEMENT</td>\n",
       "      <td>GB</td>\n",
       "      <td>8888</td>\n",
       "      <td>ACTIVE</td>\n",
       "      <td>NaN</td>\n",
       "      <td>GENERAL</td>\n",
       "      <td>LAPSED</td>\n",
       "      <td>2019-04-09T10:39:15.940Z</td>\n",
       "    </tr>\n",
       "    <tr>\n",
       "      <th>63314</th>\n",
       "      <td>213800RI7ILMJ96BI869</td>\n",
       "      <td>\"K\" LINE BULK SHIPPING (UK) LIMITED</td>\n",
       "      <td>GB</td>\n",
       "      <td>H0PO</td>\n",
       "      <td>ACTIVE</td>\n",
       "      <td>04830352</td>\n",
       "      <td>GENERAL</td>\n",
       "      <td>ISSUED</td>\n",
       "      <td>2022-02-08T12:24:18.660Z</td>\n",
       "    </tr>\n",
       "    <tr>\n",
       "      <th>11891</th>\n",
       "      <td>2138002B9KGFAZZWWD88</td>\n",
       "      <td>\"K\" LINE LNG SHIPPING (UK) LIMITED</td>\n",
       "      <td>GB</td>\n",
       "      <td>H0PO</td>\n",
       "      <td>ACTIVE</td>\n",
       "      <td>05356484</td>\n",
       "      <td>GENERAL</td>\n",
       "      <td>ISSUED</td>\n",
       "      <td>2022-02-08T12:25:15.350Z</td>\n",
       "    </tr>\n",
       "    <tr>\n",
       "      <th>29431</th>\n",
       "      <td>529900J195MD2YN26W11</td>\n",
       "      <td>\"SQUARE METER\" PROPERTY &amp; TRADING LLP</td>\n",
       "      <td>GB</td>\n",
       "      <td>Z0EY</td>\n",
       "      <td>ACTIVE</td>\n",
       "      <td>OC403986</td>\n",
       "      <td>GENERAL</td>\n",
       "      <td>ISSUED</td>\n",
       "      <td>2021-11-17T15:55:21+01:00</td>\n",
       "    </tr>\n",
       "    <tr>\n",
       "      <th>9690</th>\n",
       "      <td>9845008FB7FA96A73912</td>\n",
       "      <td>\"TRAVEL CRUISER\" CONCESSIONAIRES LIMITED</td>\n",
       "      <td>GB</td>\n",
       "      <td>H0PO</td>\n",
       "      <td>ACTIVE</td>\n",
       "      <td>01009135</td>\n",
       "      <td>GENERAL</td>\n",
       "      <td>ISSUED</td>\n",
       "      <td>2022-05-19T16:05:45+00:00</td>\n",
       "    </tr>\n",
       "  </tbody>\n",
       "</table>\n",
       "</div>"
      ],
      "text/plain": [
       "                        LEI                          Entity.LegalName  \\\n",
       "89880  213800W2GKNSVZLCE195                            \"D\" SETTLEMENT   \n",
       "63314  213800RI7ILMJ96BI869       \"K\" LINE BULK SHIPPING (UK) LIMITED   \n",
       "11891  2138002B9KGFAZZWWD88        \"K\" LINE LNG SHIPPING (UK) LIMITED   \n",
       "29431  529900J195MD2YN26W11     \"SQUARE METER\" PROPERTY & TRADING LLP   \n",
       "9690   9845008FB7FA96A73912  \"TRAVEL CRUISER\" CONCESSIONAIRES LIMITED   \n",
       "\n",
       "      Entity.LegalJurisdiction Entity.LegalForm.EntityLegalFormCode  \\\n",
       "89880                       GB                                 8888   \n",
       "63314                       GB                                 H0PO   \n",
       "11891                       GB                                 H0PO   \n",
       "29431                       GB                                 Z0EY   \n",
       "9690                        GB                                 H0PO   \n",
       "\n",
       "      Entity.EntityStatus  \\\n",
       "89880              ACTIVE   \n",
       "63314              ACTIVE   \n",
       "11891              ACTIVE   \n",
       "29431              ACTIVE   \n",
       "9690               ACTIVE   \n",
       "\n",
       "      Entity.RegistrationAuthority.RegistrationAuthorityEntityID  \\\n",
       "89880                                                NaN           \n",
       "63314                                           04830352           \n",
       "11891                                           05356484           \n",
       "29431                                           OC403986           \n",
       "9690                                            01009135           \n",
       "\n",
       "      Entity.EntityCategory Registration.RegistrationStatus  \\\n",
       "89880               GENERAL                          LAPSED   \n",
       "63314               GENERAL                          ISSUED   \n",
       "11891               GENERAL                          ISSUED   \n",
       "29431               GENERAL                          ISSUED   \n",
       "9690                GENERAL                          ISSUED   \n",
       "\n",
       "      Registration.LastUpdateDate  \n",
       "89880    2019-04-09T10:39:15.940Z  \n",
       "63314    2022-02-08T12:24:18.660Z  \n",
       "11891    2022-02-08T12:25:15.350Z  \n",
       "29431   2021-11-17T15:55:21+01:00  \n",
       "9690    2022-05-19T16:05:45+00:00  "
      ]
     },
     "execution_count": 54,
     "metadata": {},
     "output_type": "execute_result"
    }
   ],
   "source": [
    "df_GB_sorted.head()"
   ]
  },
  {
   "cell_type": "code",
   "execution_count": 61,
   "metadata": {},
   "outputs": [],
   "source": [
    "#df6 = df_GB_sorted.rename(columns={\"Entity.LegalName\": \"LegalName\"})"
   ]
  },
  {
   "cell_type": "code",
   "execution_count": 66,
   "metadata": {},
   "outputs": [
    {
     "ename": "AttributeError",
     "evalue": "'DataFrame' object has no attribute 'duplicates'",
     "output_type": "error",
     "traceback": [
      "\u001b[0;31m---------------------------------------------------------------------------\u001b[0m",
      "\u001b[0;31mAttributeError\u001b[0m                            Traceback (most recent call last)",
      "\u001b[1;32m/root/neuefische/GLEIF-Coding-Excercise/GLEIF_Exercise.ipynb Cell 45'\u001b[0m in \u001b[0;36m<cell line: 1>\u001b[0;34m()\u001b[0m\n\u001b[0;32m----> <a href='vscode-notebook-cell://wsl%2Bubuntu/root/neuefische/GLEIF-Coding-Excercise/GLEIF_Exercise.ipynb#ch0000034vscode-remote?line=0'>1</a>\u001b[0m df_GB_dupl_names \u001b[39m=\u001b[39m df_GB_sorted[df_GB_sorted\u001b[39m.\u001b[39;49mduplicates(\u001b[39m'\u001b[39m\u001b[39mEntity.LegalName\u001b[39m\u001b[39m'\u001b[39m)]\n",
      "File \u001b[0;32m~/.pyenv/versions/3.9.4/lib/python3.9/site-packages/dask/dataframe/core.py:4476\u001b[0m, in \u001b[0;36mDataFrame.__getattr__\u001b[0;34m(self, key)\u001b[0m\n\u001b[1;32m   4474\u001b[0m     \u001b[39mreturn\u001b[39;00m \u001b[39mself\u001b[39m[key]\n\u001b[1;32m   4475\u001b[0m \u001b[39melse\u001b[39;00m:\n\u001b[0;32m-> 4476\u001b[0m     \u001b[39mraise\u001b[39;00m \u001b[39mAttributeError\u001b[39;00m(\u001b[39m\"\u001b[39m\u001b[39m'\u001b[39m\u001b[39mDataFrame\u001b[39m\u001b[39m'\u001b[39m\u001b[39m object has no attribute \u001b[39m\u001b[39m%r\u001b[39;00m\u001b[39m\"\u001b[39m \u001b[39m%\u001b[39m key)\n",
      "\u001b[0;31mAttributeError\u001b[0m: 'DataFrame' object has no attribute 'duplicates'"
     ]
    }
   ],
   "source": [
    "df_GB_dupl_names = df_GB_sorted[df_GB_sorted.duplicates('Entity.LegalName')]"
   ]
  },
  {
   "cell_type": "code",
   "execution_count": null,
   "metadata": {},
   "outputs": [],
   "source": []
  },
  {
   "cell_type": "markdown",
   "metadata": {},
   "source": [
    "#### Calculating the duplicates in LEI records of GB"
   ]
  },
  {
   "cell_type": "code",
   "execution_count": 42,
   "metadata": {},
   "outputs": [],
   "source": [
    "df_GB_duplicate = df_GB_only.loc[df_GB_only[\"Registration.RegistrationStatus\"] == \"DUPLICATE\"]\n"
   ]
  },
  {
   "cell_type": "code",
   "execution_count": 43,
   "metadata": {},
   "outputs": [
    {
     "data": {
      "text/html": [
       "<div>\n",
       "<style scoped>\n",
       "    .dataframe tbody tr th:only-of-type {\n",
       "        vertical-align: middle;\n",
       "    }\n",
       "\n",
       "    .dataframe tbody tr th {\n",
       "        vertical-align: top;\n",
       "    }\n",
       "\n",
       "    .dataframe thead th {\n",
       "        text-align: right;\n",
       "    }\n",
       "</style>\n",
       "<table border=\"1\" class=\"dataframe\">\n",
       "  <thead>\n",
       "    <tr style=\"text-align: right;\">\n",
       "      <th></th>\n",
       "      <th>LEI</th>\n",
       "      <th>Entity.LegalName</th>\n",
       "      <th>Entity.LegalJurisdiction</th>\n",
       "      <th>Entity.LegalForm.EntityLegalFormCode</th>\n",
       "      <th>Entity.EntityStatus</th>\n",
       "      <th>Entity.RegistrationAuthority.RegistrationAuthorityEntityID</th>\n",
       "      <th>Entity.EntityCategory</th>\n",
       "      <th>Registration.RegistrationStatus</th>\n",
       "      <th>Registration.LastUpdateDate</th>\n",
       "    </tr>\n",
       "  </thead>\n",
       "  <tbody>\n",
       "    <tr>\n",
       "      <th>3609</th>\n",
       "      <td>0KJU2QCDNZ4OB41DJ269</td>\n",
       "      <td>Invesco Perpetual Fixed Interest Investment Se...</td>\n",
       "      <td>GB</td>\n",
       "      <td>8888</td>\n",
       "      <td>NaN</td>\n",
       "      <td>NaN</td>\n",
       "      <td>GENERAL</td>\n",
       "      <td>DUPLICATE</td>\n",
       "      <td>2021-01-21T18:55:00.000Z</td>\n",
       "    </tr>\n",
       "    <tr>\n",
       "      <th>4796</th>\n",
       "      <td>21380013H52BEWNR1B48</td>\n",
       "      <td>M J DAWSON NO 2 SETTLEMENT</td>\n",
       "      <td>GB</td>\n",
       "      <td>8888</td>\n",
       "      <td>NaN</td>\n",
       "      <td>NaN</td>\n",
       "      <td>GENERAL</td>\n",
       "      <td>DUPLICATE</td>\n",
       "      <td>2022-03-23T04:45:19.047Z</td>\n",
       "    </tr>\n",
       "    <tr>\n",
       "      <th>6019</th>\n",
       "      <td>2138001B486RXXI3FA30</td>\n",
       "      <td>NORTHERN &amp; SHELL PROPERTIES LIMITED</td>\n",
       "      <td>GB</td>\n",
       "      <td>H0PO</td>\n",
       "      <td>NaN</td>\n",
       "      <td>04104529</td>\n",
       "      <td>GENERAL</td>\n",
       "      <td>DUPLICATE</td>\n",
       "      <td>2022-03-24T07:45:44.393Z</td>\n",
       "    </tr>\n",
       "    <tr>\n",
       "      <th>6114</th>\n",
       "      <td>2138001BTNZOX64XMB06</td>\n",
       "      <td>LONDONDERRY 2014 GRANDCHILDREN'S SETTLEMENT RO...</td>\n",
       "      <td>GB</td>\n",
       "      <td>8888</td>\n",
       "      <td>NaN</td>\n",
       "      <td>NaN</td>\n",
       "      <td>GENERAL</td>\n",
       "      <td>DUPLICATE</td>\n",
       "      <td>2022-03-24T07:43:03.537Z</td>\n",
       "    </tr>\n",
       "    <tr>\n",
       "      <th>6206</th>\n",
       "      <td>2138001CDBJ4DD8QJO18</td>\n",
       "      <td>CHRISTOPHER GORDON HORSFALL SIMON 1964 SETTLEMENT</td>\n",
       "      <td>GB</td>\n",
       "      <td>8888</td>\n",
       "      <td>NaN</td>\n",
       "      <td>NaN</td>\n",
       "      <td>GENERAL</td>\n",
       "      <td>DUPLICATE</td>\n",
       "      <td>2022-03-24T07:38:44.517Z</td>\n",
       "    </tr>\n",
       "  </tbody>\n",
       "</table>\n",
       "</div>"
      ],
      "text/plain": [
       "                       LEI                                   Entity.LegalName  \\\n",
       "3609  0KJU2QCDNZ4OB41DJ269  Invesco Perpetual Fixed Interest Investment Se...   \n",
       "4796  21380013H52BEWNR1B48                         M J DAWSON NO 2 SETTLEMENT   \n",
       "6019  2138001B486RXXI3FA30                NORTHERN & SHELL PROPERTIES LIMITED   \n",
       "6114  2138001BTNZOX64XMB06  LONDONDERRY 2014 GRANDCHILDREN'S SETTLEMENT RO...   \n",
       "6206  2138001CDBJ4DD8QJO18  CHRISTOPHER GORDON HORSFALL SIMON 1964 SETTLEMENT   \n",
       "\n",
       "     Entity.LegalJurisdiction Entity.LegalForm.EntityLegalFormCode  \\\n",
       "3609                       GB                                 8888   \n",
       "4796                       GB                                 8888   \n",
       "6019                       GB                                 H0PO   \n",
       "6114                       GB                                 8888   \n",
       "6206                       GB                                 8888   \n",
       "\n",
       "     Entity.EntityStatus  \\\n",
       "3609                 NaN   \n",
       "4796                 NaN   \n",
       "6019                 NaN   \n",
       "6114                 NaN   \n",
       "6206                 NaN   \n",
       "\n",
       "     Entity.RegistrationAuthority.RegistrationAuthorityEntityID  \\\n",
       "3609                                                NaN           \n",
       "4796                                                NaN           \n",
       "6019                                           04104529           \n",
       "6114                                                NaN           \n",
       "6206                                                NaN           \n",
       "\n",
       "     Entity.EntityCategory Registration.RegistrationStatus  \\\n",
       "3609               GENERAL                       DUPLICATE   \n",
       "4796               GENERAL                       DUPLICATE   \n",
       "6019               GENERAL                       DUPLICATE   \n",
       "6114               GENERAL                       DUPLICATE   \n",
       "6206               GENERAL                       DUPLICATE   \n",
       "\n",
       "     Registration.LastUpdateDate  \n",
       "3609    2021-01-21T18:55:00.000Z  \n",
       "4796    2022-03-23T04:45:19.047Z  \n",
       "6019    2022-03-24T07:45:44.393Z  \n",
       "6114    2022-03-24T07:43:03.537Z  \n",
       "6206    2022-03-24T07:38:44.517Z  "
      ]
     },
     "execution_count": 43,
     "metadata": {},
     "output_type": "execute_result"
    }
   ],
   "source": [
    "df_GB_duplicate.head()"
   ]
  },
  {
   "cell_type": "code",
   "execution_count": 55,
   "metadata": {},
   "outputs": [],
   "source": [
    "rows_count = len(df_GB_duplicate.index)"
   ]
  },
  {
   "cell_type": "code",
   "execution_count": 56,
   "metadata": {},
   "outputs": [
    {
     "name": "stdout",
     "output_type": "stream",
     "text": [
      "523\n"
     ]
    }
   ],
   "source": [
    "print(rows_count)"
   ]
  },
  {
   "cell_type": "markdown",
   "metadata": {},
   "source": [
    "523 duplicate records are found in the LEI record of Great Britain."
   ]
  },
  {
   "cell_type": "markdown",
   "metadata": {},
   "source": [
    "# Future Work"
   ]
  }
 ],
 "metadata": {
  "kernelspec": {
   "display_name": "Python 3.9.4 64-bit ('3.9.4')",
   "language": "python",
   "name": "python3"
  },
  "language_info": {
   "codemirror_mode": {
    "name": "ipython",
    "version": 3
   },
   "file_extension": ".py",
   "mimetype": "text/x-python",
   "name": "python",
   "nbconvert_exporter": "python",
   "pygments_lexer": "ipython3",
   "version": "3.9.4"
  },
  "orig_nbformat": 4,
  "vscode": {
   "interpreter": {
    "hash": "d770ca272268c52cb633ea155ed0e9dd1b99be225d3d26a9d6c7d621d9800332"
   }
  }
 },
 "nbformat": 4,
 "nbformat_minor": 2
}
